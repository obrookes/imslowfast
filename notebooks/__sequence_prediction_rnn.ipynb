{
 "cells": [
  {
   "cell_type": "code",
   "execution_count": 1,
   "metadata": {},
   "outputs": [],
   "source": [
    "import pickle as pkl\n",
    "import re\n",
    "\n",
    "import matplotlib.pyplot as plt\n",
    "import numpy as np\n",
    "import pandas as pd\n",
    "import torch\n",
    "import torch.nn as nn\n",
    "import torch.nn.functional as F\n",
    "from datasets import Dataset\n",
    "from sklearn.metrics import accuracy_score, precision_recall_fscore_support\n",
    "from torch.utils.data import DataLoader\n",
    "from tqdm import tqdm"
   ]
  },
  {
   "cell_type": "markdown",
   "metadata": {},
   "source": [
    "**Utilities**"
   ]
  },
  {
   "cell_type": "code",
   "execution_count": 2,
   "metadata": {},
   "outputs": [],
   "source": [
    "def remove_double_commas(text):\n",
    "    \"\"\"\n",
    "    Removes double commas from the given text.\n",
    "\n",
    "    Args:\n",
    "    text (str): The input string with potential double commas.\n",
    "\n",
    "    Returns:\n",
    "    str: The processed string with double commas replaced by a single comma.\n",
    "    \"\"\"\n",
    "    # Define the pattern to match double commas\n",
    "    pattern = r\",,\"\n",
    "\n",
    "    # Use re.sub to replace double commas with a single comma\n",
    "    cleaned_text = re.sub(pattern, \",\", text)\n",
    "\n",
    "    # Return the cleaned text\n",
    "    return cleaned_text\n",
    "\n",
    "\n",
    "def pad_sequence(sequence, max_len):\n",
    "    \"\"\"\n",
    "    Pads the given sequence to the specified maximum length.\n",
    "\n",
    "    Args:\n",
    "    sequence (list): The input sequence to pad.\n",
    "    max_len (int): The maximum length to pad the sequence to.\n",
    "\n",
    "    Returns:\n",
    "    list: The padded sequence.\n",
    "    \"\"\"\n",
    "    # Calculate the padding length\n",
    "    pad_len = max_len - len(sequence) - 1\n",
    "\n",
    "    # Increase the index of all elements in the sequence by 1\n",
    "    sequence = [x + 1 for x in sequence]\n",
    "\n",
    "    # Pad the sequence with zeros\n",
    "    padded_sequence = [0] + sequence + [15] * pad_len\n",
    "\n",
    "    # Return the padded sequence\n",
    "    return padded_sequence"
   ]
  },
  {
   "cell_type": "code",
   "execution_count": 3,
   "metadata": {},
   "outputs": [],
   "source": [
    "with open(\n",
    "    \"../model=slow-50-tap/model=slow-50_method=tap4x8-w-negatives_return-feats=train_feats.pkl\",\n",
    "    \"rb\",\n",
    ") as f:\n",
    "    train_data = pkl.load(f)\n",
    "\n",
    "with open(\n",
    "    \"../model=slow-50-tap/model=slow-50_method=tap4x8-w-negatives_return-feats=val_feats.pkl\",\n",
    "    \"rb\",\n",
    ") as f:\n",
    "    val_data = pkl.load(f)\n",
    "\n",
    "metadata = pd.read_csv(\n",
    "    \"/home/dl18206/Desktop/phd/data/panaf/PanAfFull/notebooks/data/panaf-seq_metadata.csv\"\n",
    ")\n",
    "\n",
    "with open(\"../data/behaviours.txt\", \"rb\") as f:\n",
    "    behaviours = [beh.decode(\"utf-8\").strip() for beh in f.readlines()]\n",
    "\n",
    "behaviours_dict = {beh: i for i, beh in enumerate(behaviours)}\n",
    "\n",
    "# Get the names of the clips\n",
    "train_name_df = pd.DataFrame(train_data[\"names\"], columns=[\"name\"])\n",
    "val_name_df = pd.DataFrame(val_data[\"names\"], columns=[\"name\"])\n",
    "\n",
    "train_name_df = train_name_df.merge(\n",
    "    metadata[[\"subject_id\", \"value\"]], left_on=\"name\", right_on=\"subject_id\"\n",
    ").drop(columns=[\"subject_id\"])\n",
    "\n",
    "val_name_df = val_name_df.merge(\n",
    "    metadata[[\"subject_id\", \"value\"]], left_on=\"name\", right_on=\"subject_id\"\n",
    ").drop(columns=[\"subject_id\"])\n",
    "\n",
    "\n",
    "train_name_df[\"value\"] = train_name_df[\"value\"].apply(lambda x: remove_double_commas(x))\n",
    "val_name_df[\"value\"] = val_name_df[\"value\"].apply(lambda x: remove_double_commas(x))\n",
    "\n",
    "\n",
    "train_name_df[\"sequence\"] = train_name_df[\"value\"].apply(\n",
    "    lambda x: (\n",
    "        [behaviours_dict[i] for i in x.split(\",\")]\n",
    "        if \"\" not in x.split(\",\")\n",
    "        else behaviours_dict[x]\n",
    "    )\n",
    ")\n",
    "\n",
    "val_name_df[\"sequence\"] = val_name_df[\"value\"].apply(\n",
    "    lambda x: (\n",
    "        [behaviours_dict[i] for i in x.split(\",\")]\n",
    "        if \"\" not in x.split(\",\")\n",
    "        else behaviours_dict[x]\n",
    "    )\n",
    ")\n",
    "\n",
    "max_seq_len = 25\n",
    "\n",
    "train_name_df[\"sequence\"] = train_name_df[\"sequence\"].apply(\n",
    "    lambda x: pad_sequence(x, max_seq_len)\n",
    ")\n",
    "val_name_df[\"sequence\"] = val_name_df[\"sequence\"].apply(\n",
    "    lambda x: pad_sequence(x, max_seq_len)\n",
    ")\n",
    "\n",
    "# Add the imported names and sequences to data\n",
    "train_data[\"imported_name\"] = train_name_df[\"name\"].values\n",
    "train_data[\"sequence\"] = train_name_df[\"sequence\"].values\n",
    "\n",
    "val_data[\"imported_name\"] = val_name_df[\"name\"].values\n",
    "val_data[\"sequence\"] = val_name_df[\"sequence\"].values\n",
    "\n",
    "# Check indexing is correct\n",
    "for n1, n2 in zip(train_data[\"imported_name\"], train_data[\"names\"]):\n",
    "    assert n1 == n2, f\"{n1} != {n2}\"\n",
    "\n",
    "for n1, n2 in zip(val_data[\"imported_name\"], val_data[\"names\"]):\n",
    "    assert n1 == n2, f\"{n1} != {n2}\"\n",
    "\n",
    "train_dataset = Dataset.from_dict(train_data)\n",
    "val_dataset = Dataset.from_dict(val_data)\n",
    "\n",
    "train_dataset.set_format(type=\"torch\")\n",
    "val_dataset.set_format(type=\"torch\")\n",
    "\n",
    "batch_size = 256\n",
    "train_dataloader = DataLoader(train_dataset, batch_size=batch_size, shuffle=True)\n",
    "val_dataloader = DataLoader(val_dataset, batch_size=batch_size, shuffle=False)"
   ]
  },
  {
   "cell_type": "markdown",
   "metadata": {},
   "source": [
    "**Model implementation**"
   ]
  },
  {
   "cell_type": "code",
   "execution_count": 4,
   "metadata": {},
   "outputs": [],
   "source": [
    "class EncoderDecoderRNN(nn.Module):\n",
    "    def __init__(self, input_dim, hidden_dim, num_classes, num_layers=1, dropout=0):\n",
    "        super(EncoderDecoderRNN, self).__init__()\n",
    "\n",
    "        self.hidden_dim = hidden_dim\n",
    "        self.num_classes = num_classes\n",
    "        self.num_layers = num_layers\n",
    "        self.sos_idx = 0  # SOS token is at index 0\n",
    "        self.pad_idx = num_classes + 1  # PAD token is at the last index\n",
    "\n",
    "        # Encoder\n",
    "        self.encoder = nn.RNN(\n",
    "            input_dim, hidden_dim, num_layers, batch_first=True, dropout=dropout\n",
    "        )\n",
    "\n",
    "        # Decoder\n",
    "        self.decoder = nn.RNN(\n",
    "            num_classes + 2, hidden_dim, num_layers, batch_first=True, dropout=dropout\n",
    "        )\n",
    "\n",
    "        # Classifier\n",
    "        self.fc_out = nn.Linear(hidden_dim, num_classes + 2)  # +2 for SOS + PAD token\n",
    "\n",
    "    def create_mask(self, tgt):\n",
    "        pad_mask = (tgt != self.pad_idx).float()\n",
    "        return pad_mask\n",
    "\n",
    "    def forward(self, src, tgt, teacher_forcing_ratio=0.5):\n",
    "        # src shape: [batch_size, sequence_len, input_dim]\n",
    "        # tgt shape: [batch_size, max_seq_len] (including SOS at index 0 and padding)\n",
    "\n",
    "        batch_size, max_len = tgt.shape\n",
    "\n",
    "        # Create mask for padding\n",
    "        mask = self.create_mask(tgt)\n",
    "\n",
    "        # Encoder\n",
    "        _, hidden = self.encoder(src)\n",
    "\n",
    "        # Decoder\n",
    "        outputs = torch.zeros(batch_size, max_len, self.num_classes + 2).to(src.device)\n",
    "\n",
    "        # Use the SOS token (at index 0) as the first decoder input\n",
    "        decoder_input = (\n",
    "            F.one_hot(tgt[:, 0], num_classes=self.num_classes + 2).float().unsqueeze(1)\n",
    "        )  # [B, 1, num_classes + 2]\n",
    "\n",
    "        for t in range(1, max_len):\n",
    "            output, hidden = self.decoder(decoder_input, hidden)\n",
    "            prediction = self.fc_out(output.squeeze(1))\n",
    "\n",
    "            # Apply mask\n",
    "            p = prediction * mask[:, t].unsqueeze(1)\n",
    "\n",
    "            # Store the prediction\n",
    "            outputs[:, t] = p\n",
    "\n",
    "            teacher_force = torch.rand(1).item() < teacher_forcing_ratio\n",
    "\n",
    "            if teacher_force:\n",
    "                decoder_input = F.one_hot(\n",
    "                    tgt[:, t].unsqueeze(1), num_classes=self.num_classes + 2\n",
    "                ).float()\n",
    "            else:\n",
    "                top1 = prediction.argmax(1)\n",
    "                decoder_input = F.one_hot(\n",
    "                    top1.unsqueeze(1), num_classes=self.num_classes + 2\n",
    "                ).float()\n",
    "\n",
    "        return outputs[:, 1:, 1:]\n",
    "\n",
    "    def inference(self, src, max_len):\n",
    "        batch_size = src.shape[0]\n",
    "\n",
    "        # Encoder\n",
    "        _, hidden = self.encoder(src)\n",
    "\n",
    "        # Decoder\n",
    "        outputs = torch.zeros(batch_size, max_len, self.num_classes + 2).to(src.device)\n",
    "\n",
    "        # Start with SOS token\n",
    "        decoder_input = F.one_hot(\n",
    "            torch.full((batch_size, 1), self.sos_idx, device=src.device),\n",
    "            num_classes=self.num_classes + 2,\n",
    "        ).float()\n",
    "\n",
    "        for t in range(1, max_len):\n",
    "            output, hidden = self.decoder(decoder_input, hidden)\n",
    "            prediction = self.fc_out(output.squeeze(1))\n",
    "\n",
    "            outputs[:, t] = prediction\n",
    "\n",
    "            top1 = prediction.argmax(1)\n",
    "            decoder_input = F.one_hot(\n",
    "                top1.unsqueeze(1), num_classes=self.num_classes + 2\n",
    "            ).float()\n",
    "\n",
    "        return outputs[:, 1:, 1:]"
   ]
  },
  {
   "cell_type": "code",
   "execution_count": 5,
   "metadata": {},
   "outputs": [
    {
     "name": "stderr",
     "output_type": "stream",
     "text": [
      "/home/dl18206/anaconda3/envs/dataset-upgrade/lib/python3.8/site-packages/torch/nn/modules/rnn.py:83: UserWarning: dropout option adds dropout after all but last recurrent layer, so non-zero dropout expects num_layers greater than 1, but got dropout=0.2 and num_layers=1\n",
      "  warnings.warn(\"dropout option adds dropout after all but last \"\n"
     ]
    }
   ],
   "source": [
    "# Model initialisation\n",
    "input_dim = 14  # num_classes in src\n",
    "hidden_dim = 256\n",
    "output_dim = 14  # num_classes in output\n",
    "nlayers = 1\n",
    "\n",
    "model = EncoderDecoderRNN(\n",
    "    input_dim, hidden_dim, output_dim, num_layers=nlayers, dropout=0.2\n",
    ")\n",
    "\n",
    "save_name = f\"model=rnn-encoder-decoder_w-negative_hidden-dim={hidden_dim}_nlayers={nlayers}_batch_size={batch_size}\""
   ]
  },
  {
   "cell_type": "code",
   "execution_count": 6,
   "metadata": {},
   "outputs": [],
   "source": [
    "# # Example usage\n",
    "sample = next(iter(train_dataloader))\n",
    "src, tgt = sample[\"cas\"], sample[\"sequence\"]\n",
    "\n",
    "# Forward pass\n",
    "train_outputs = model(src, tgt)\n",
    "\n",
    "# Inference\n",
    "inference_outputs = model.inference(src, max_seq_len)"
   ]
  },
  {
   "cell_type": "code",
   "execution_count": 7,
   "metadata": {},
   "outputs": [
    {
     "data": {
      "text/plain": [
       "(torch.Size([256, 24, 15]), torch.Size([256, 24, 15]))"
      ]
     },
     "execution_count": 7,
     "metadata": {},
     "output_type": "execute_result"
    }
   ],
   "source": [
    "train_outputs.shape, inference_outputs.shape"
   ]
  },
  {
   "cell_type": "code",
   "execution_count": 8,
   "metadata": {},
   "outputs": [
    {
     "name": "stderr",
     "output_type": "stream",
     "text": [
      "                                                           \r"
     ]
    },
    {
     "name": "stdout",
     "output_type": "stream",
     "text": [
      "Epoch 0, Loss: 2.3050 TrainAcc: 0.27, ValAcc: 0.39\n"
     ]
    },
    {
     "name": "stderr",
     "output_type": "stream",
     "text": [
      "                                                           \r"
     ]
    },
    {
     "name": "stdout",
     "output_type": "stream",
     "text": [
      "Epoch 1, Loss: 1.8049 TrainAcc: 0.40, ValAcc: 0.44\n"
     ]
    },
    {
     "name": "stderr",
     "output_type": "stream",
     "text": [
      "                                                           \r"
     ]
    },
    {
     "name": "stdout",
     "output_type": "stream",
     "text": [
      "Epoch 2, Loss: 1.6149 TrainAcc: 0.48, ValAcc: 0.45\n"
     ]
    },
    {
     "name": "stderr",
     "output_type": "stream",
     "text": [
      "                                                           \r"
     ]
    },
    {
     "name": "stdout",
     "output_type": "stream",
     "text": [
      "Epoch 3, Loss: 1.4745 TrainAcc: 0.52, ValAcc: 0.47\n"
     ]
    },
    {
     "name": "stderr",
     "output_type": "stream",
     "text": [
      "                                                           \r"
     ]
    },
    {
     "name": "stdout",
     "output_type": "stream",
     "text": [
      "Epoch 4, Loss: 1.3738 TrainAcc: 0.55, ValAcc: 0.48\n"
     ]
    },
    {
     "name": "stderr",
     "output_type": "stream",
     "text": [
      "                                                           \r"
     ]
    },
    {
     "name": "stdout",
     "output_type": "stream",
     "text": [
      "Epoch 5, Loss: 1.2607 TrainAcc: 0.56, ValAcc: 0.47\n"
     ]
    },
    {
     "name": "stderr",
     "output_type": "stream",
     "text": [
      "                                                           \r"
     ]
    },
    {
     "name": "stdout",
     "output_type": "stream",
     "text": [
      "Epoch 6, Loss: 1.2029 TrainAcc: 0.57, ValAcc: 0.46\n"
     ]
    },
    {
     "name": "stderr",
     "output_type": "stream",
     "text": [
      "                                                           \r"
     ]
    },
    {
     "name": "stdout",
     "output_type": "stream",
     "text": [
      "Epoch 7, Loss: 1.1447 TrainAcc: 0.60, ValAcc: 0.46\n"
     ]
    },
    {
     "name": "stderr",
     "output_type": "stream",
     "text": [
      "                                                           \r"
     ]
    },
    {
     "name": "stdout",
     "output_type": "stream",
     "text": [
      "Epoch 8, Loss: 1.0490 TrainAcc: 0.61, ValAcc: 0.47\n"
     ]
    },
    {
     "name": "stderr",
     "output_type": "stream",
     "text": [
      "                                                           \r"
     ]
    },
    {
     "name": "stdout",
     "output_type": "stream",
     "text": [
      "Epoch 9, Loss: 1.0329 TrainAcc: 0.62, ValAcc: 0.47\n"
     ]
    },
    {
     "name": "stderr",
     "output_type": "stream",
     "text": [
      "                                                            \r"
     ]
    },
    {
     "name": "stdout",
     "output_type": "stream",
     "text": [
      "Epoch 10, Loss: 0.9882 TrainAcc: 0.62, ValAcc: 0.47\n"
     ]
    },
    {
     "name": "stderr",
     "output_type": "stream",
     "text": [
      "                                                            \r"
     ]
    },
    {
     "name": "stdout",
     "output_type": "stream",
     "text": [
      "Epoch 11, Loss: 0.9566 TrainAcc: 0.63, ValAcc: 0.47\n"
     ]
    },
    {
     "name": "stderr",
     "output_type": "stream",
     "text": [
      "                                                            \r"
     ]
    },
    {
     "name": "stdout",
     "output_type": "stream",
     "text": [
      "Epoch 12, Loss: 0.9090 TrainAcc: 0.64, ValAcc: 0.50\n"
     ]
    },
    {
     "name": "stderr",
     "output_type": "stream",
     "text": [
      "                                                            \r"
     ]
    },
    {
     "name": "stdout",
     "output_type": "stream",
     "text": [
      "Epoch 13, Loss: 0.9018 TrainAcc: 0.64, ValAcc: 0.47\n"
     ]
    },
    {
     "name": "stderr",
     "output_type": "stream",
     "text": [
      "                                                            \r"
     ]
    },
    {
     "name": "stdout",
     "output_type": "stream",
     "text": [
      "Epoch 14, Loss: 0.8430 TrainAcc: 0.66, ValAcc: 0.46\n"
     ]
    },
    {
     "name": "stderr",
     "output_type": "stream",
     "text": [
      "                                                            \r"
     ]
    },
    {
     "name": "stdout",
     "output_type": "stream",
     "text": [
      "Epoch 15, Loss: 0.8506 TrainAcc: 0.66, ValAcc: 0.48\n"
     ]
    },
    {
     "name": "stderr",
     "output_type": "stream",
     "text": [
      "                                                            \r"
     ]
    },
    {
     "name": "stdout",
     "output_type": "stream",
     "text": [
      "Epoch 16, Loss: 0.8150 TrainAcc: 0.67, ValAcc: 0.48\n"
     ]
    },
    {
     "name": "stderr",
     "output_type": "stream",
     "text": [
      "                                                            \r"
     ]
    },
    {
     "name": "stdout",
     "output_type": "stream",
     "text": [
      "Epoch 17, Loss: 0.7633 TrainAcc: 0.68, ValAcc: 0.45\n"
     ]
    },
    {
     "name": "stderr",
     "output_type": "stream",
     "text": [
      "                                                            \r"
     ]
    },
    {
     "name": "stdout",
     "output_type": "stream",
     "text": [
      "Epoch 18, Loss: 0.7241 TrainAcc: 0.69, ValAcc: 0.47\n"
     ]
    },
    {
     "name": "stderr",
     "output_type": "stream",
     "text": [
      "                                                            \r"
     ]
    },
    {
     "name": "stdout",
     "output_type": "stream",
     "text": [
      "Epoch 19, Loss: 0.7742 TrainAcc: 0.69, ValAcc: 0.48\n"
     ]
    },
    {
     "name": "stderr",
     "output_type": "stream",
     "text": [
      "                                                            \r"
     ]
    },
    {
     "name": "stdout",
     "output_type": "stream",
     "text": [
      "Epoch 20, Loss: 0.7085 TrainAcc: 0.70, ValAcc: 0.46\n"
     ]
    },
    {
     "name": "stderr",
     "output_type": "stream",
     "text": [
      "                                                            \r"
     ]
    },
    {
     "name": "stdout",
     "output_type": "stream",
     "text": [
      "Epoch 21, Loss: 0.7097 TrainAcc: 0.70, ValAcc: 0.48\n"
     ]
    },
    {
     "name": "stderr",
     "output_type": "stream",
     "text": [
      "                                                            \r"
     ]
    },
    {
     "name": "stdout",
     "output_type": "stream",
     "text": [
      "Epoch 22, Loss: 0.6739 TrainAcc: 0.72, ValAcc: 0.48\n"
     ]
    },
    {
     "name": "stderr",
     "output_type": "stream",
     "text": [
      "                                                            \r"
     ]
    },
    {
     "name": "stdout",
     "output_type": "stream",
     "text": [
      "Epoch 23, Loss: 0.6534 TrainAcc: 0.72, ValAcc: 0.46\n"
     ]
    },
    {
     "name": "stderr",
     "output_type": "stream",
     "text": [
      "                                                            \r"
     ]
    },
    {
     "name": "stdout",
     "output_type": "stream",
     "text": [
      "Epoch 24, Loss: 0.6096 TrainAcc: 0.72, ValAcc: 0.47\n"
     ]
    },
    {
     "name": "stderr",
     "output_type": "stream",
     "text": [
      "                                                            \r"
     ]
    },
    {
     "name": "stdout",
     "output_type": "stream",
     "text": [
      "Epoch 25, Loss: 0.6094 TrainAcc: 0.73, ValAcc: 0.44\n"
     ]
    },
    {
     "name": "stderr",
     "output_type": "stream",
     "text": [
      "                                                            \r"
     ]
    },
    {
     "name": "stdout",
     "output_type": "stream",
     "text": [
      "Epoch 26, Loss: 0.6324 TrainAcc: 0.74, ValAcc: 0.46\n"
     ]
    },
    {
     "name": "stderr",
     "output_type": "stream",
     "text": [
      "                                                            \r"
     ]
    },
    {
     "name": "stdout",
     "output_type": "stream",
     "text": [
      "Epoch 27, Loss: 0.5900 TrainAcc: 0.75, ValAcc: 0.48\n"
     ]
    },
    {
     "name": "stderr",
     "output_type": "stream",
     "text": [
      "                                                            \r"
     ]
    },
    {
     "name": "stdout",
     "output_type": "stream",
     "text": [
      "Epoch 28, Loss: 0.5597 TrainAcc: 0.77, ValAcc: 0.47\n"
     ]
    },
    {
     "name": "stderr",
     "output_type": "stream",
     "text": [
      "                                                            \r"
     ]
    },
    {
     "name": "stdout",
     "output_type": "stream",
     "text": [
      "Epoch 29, Loss: 0.5538 TrainAcc: 0.77, ValAcc: 0.47\n"
     ]
    },
    {
     "name": "stderr",
     "output_type": "stream",
     "text": [
      "                                                            \r"
     ]
    },
    {
     "name": "stdout",
     "output_type": "stream",
     "text": [
      "Epoch 30, Loss: 0.4973 TrainAcc: 0.78, ValAcc: 0.48\n"
     ]
    },
    {
     "name": "stderr",
     "output_type": "stream",
     "text": [
      "                                                            \r"
     ]
    },
    {
     "name": "stdout",
     "output_type": "stream",
     "text": [
      "Epoch 31, Loss: 0.5177 TrainAcc: 0.78, ValAcc: 0.48\n"
     ]
    },
    {
     "name": "stderr",
     "output_type": "stream",
     "text": [
      "                                                            \r"
     ]
    },
    {
     "name": "stdout",
     "output_type": "stream",
     "text": [
      "Epoch 32, Loss: 0.4943 TrainAcc: 0.78, ValAcc: 0.44\n"
     ]
    },
    {
     "name": "stderr",
     "output_type": "stream",
     "text": [
      "                                                            \r"
     ]
    },
    {
     "name": "stdout",
     "output_type": "stream",
     "text": [
      "Epoch 33, Loss: 0.4978 TrainAcc: 0.79, ValAcc: 0.48\n"
     ]
    },
    {
     "name": "stderr",
     "output_type": "stream",
     "text": [
      "                                                            \r"
     ]
    },
    {
     "name": "stdout",
     "output_type": "stream",
     "text": [
      "Epoch 34, Loss: 0.4752 TrainAcc: 0.81, ValAcc: 0.46\n"
     ]
    },
    {
     "name": "stderr",
     "output_type": "stream",
     "text": [
      "                                                            \r"
     ]
    },
    {
     "name": "stdout",
     "output_type": "stream",
     "text": [
      "Epoch 35, Loss: 0.4506 TrainAcc: 0.81, ValAcc: 0.47\n"
     ]
    },
    {
     "name": "stderr",
     "output_type": "stream",
     "text": [
      "                                                            \r"
     ]
    },
    {
     "name": "stdout",
     "output_type": "stream",
     "text": [
      "Epoch 36, Loss: 0.4293 TrainAcc: 0.82, ValAcc: 0.48\n"
     ]
    },
    {
     "name": "stderr",
     "output_type": "stream",
     "text": [
      "                                                            \r"
     ]
    },
    {
     "name": "stdout",
     "output_type": "stream",
     "text": [
      "Epoch 37, Loss: 0.4324 TrainAcc: 0.82, ValAcc: 0.47\n"
     ]
    },
    {
     "name": "stderr",
     "output_type": "stream",
     "text": [
      "                                                            \r"
     ]
    },
    {
     "name": "stdout",
     "output_type": "stream",
     "text": [
      "Epoch 38, Loss: 0.4105 TrainAcc: 0.82, ValAcc: 0.48\n"
     ]
    },
    {
     "name": "stderr",
     "output_type": "stream",
     "text": [
      "                                                            \r"
     ]
    },
    {
     "name": "stdout",
     "output_type": "stream",
     "text": [
      "Epoch 39, Loss: 0.3986 TrainAcc: 0.83, ValAcc: 0.47\n"
     ]
    },
    {
     "name": "stderr",
     "output_type": "stream",
     "text": [
      "                                                            \r"
     ]
    },
    {
     "name": "stdout",
     "output_type": "stream",
     "text": [
      "Epoch 40, Loss: 0.3717 TrainAcc: 0.84, ValAcc: 0.47\n"
     ]
    },
    {
     "name": "stderr",
     "output_type": "stream",
     "text": [
      "                                                            \r"
     ]
    },
    {
     "name": "stdout",
     "output_type": "stream",
     "text": [
      "Epoch 41, Loss: 0.3949 TrainAcc: 0.85, ValAcc: 0.47\n"
     ]
    },
    {
     "name": "stderr",
     "output_type": "stream",
     "text": [
      "                                                            \r"
     ]
    },
    {
     "name": "stdout",
     "output_type": "stream",
     "text": [
      "Epoch 42, Loss: 0.3562 TrainAcc: 0.85, ValAcc: 0.44\n"
     ]
    },
    {
     "name": "stderr",
     "output_type": "stream",
     "text": [
      "                                                            \r"
     ]
    },
    {
     "name": "stdout",
     "output_type": "stream",
     "text": [
      "Epoch 43, Loss: 0.4017 TrainAcc: 0.85, ValAcc: 0.45\n"
     ]
    },
    {
     "name": "stderr",
     "output_type": "stream",
     "text": [
      "                                                            \r"
     ]
    },
    {
     "name": "stdout",
     "output_type": "stream",
     "text": [
      "Epoch 44, Loss: 0.3341 TrainAcc: 0.86, ValAcc: 0.47\n"
     ]
    },
    {
     "name": "stderr",
     "output_type": "stream",
     "text": [
      "                                                            \r"
     ]
    },
    {
     "name": "stdout",
     "output_type": "stream",
     "text": [
      "Epoch 45, Loss: 0.3235 TrainAcc: 0.87, ValAcc: 0.44\n"
     ]
    },
    {
     "name": "stderr",
     "output_type": "stream",
     "text": [
      "                                                            \r"
     ]
    },
    {
     "name": "stdout",
     "output_type": "stream",
     "text": [
      "Epoch 46, Loss: 0.3020 TrainAcc: 0.89, ValAcc: 0.48\n"
     ]
    },
    {
     "name": "stderr",
     "output_type": "stream",
     "text": [
      "                                                            \r"
     ]
    },
    {
     "name": "stdout",
     "output_type": "stream",
     "text": [
      "Epoch 47, Loss: 0.2907 TrainAcc: 0.89, ValAcc: 0.45\n"
     ]
    },
    {
     "name": "stderr",
     "output_type": "stream",
     "text": [
      "                                                            \r"
     ]
    },
    {
     "name": "stdout",
     "output_type": "stream",
     "text": [
      "Epoch 48, Loss: 0.2761 TrainAcc: 0.90, ValAcc: 0.46\n"
     ]
    },
    {
     "name": "stderr",
     "output_type": "stream",
     "text": [
      "                                                            \r"
     ]
    },
    {
     "name": "stdout",
     "output_type": "stream",
     "text": [
      "Epoch 49, Loss: 0.2567 TrainAcc: 0.92, ValAcc: 0.45\n"
     ]
    },
    {
     "name": "stderr",
     "output_type": "stream",
     "text": [
      "                                                            \r"
     ]
    },
    {
     "name": "stdout",
     "output_type": "stream",
     "text": [
      "Epoch 50, Loss: 0.2402 TrainAcc: 0.93, ValAcc: 0.45\n"
     ]
    },
    {
     "name": "stderr",
     "output_type": "stream",
     "text": [
      "                                                            \r"
     ]
    },
    {
     "name": "stdout",
     "output_type": "stream",
     "text": [
      "Epoch 51, Loss: 0.2109 TrainAcc: 0.92, ValAcc: 0.46\n"
     ]
    },
    {
     "name": "stderr",
     "output_type": "stream",
     "text": [
      "                                                            \r"
     ]
    },
    {
     "name": "stdout",
     "output_type": "stream",
     "text": [
      "Epoch 52, Loss: 0.2143 TrainAcc: 0.93, ValAcc: 0.46\n"
     ]
    },
    {
     "name": "stderr",
     "output_type": "stream",
     "text": [
      "                                                            \r"
     ]
    },
    {
     "name": "stdout",
     "output_type": "stream",
     "text": [
      "Epoch 53, Loss: 0.2119 TrainAcc: 0.93, ValAcc: 0.44\n"
     ]
    },
    {
     "name": "stderr",
     "output_type": "stream",
     "text": [
      "                                                            \r"
     ]
    },
    {
     "name": "stdout",
     "output_type": "stream",
     "text": [
      "Epoch 54, Loss: 0.1926 TrainAcc: 0.93, ValAcc: 0.44\n"
     ]
    },
    {
     "name": "stderr",
     "output_type": "stream",
     "text": [
      "                                                            \r"
     ]
    },
    {
     "name": "stdout",
     "output_type": "stream",
     "text": [
      "Epoch 55, Loss: 0.2089 TrainAcc: 0.94, ValAcc: 0.44\n"
     ]
    },
    {
     "name": "stderr",
     "output_type": "stream",
     "text": [
      "                                                            \r"
     ]
    },
    {
     "name": "stdout",
     "output_type": "stream",
     "text": [
      "Epoch 56, Loss: 0.1855 TrainAcc: 0.94, ValAcc: 0.45\n"
     ]
    },
    {
     "name": "stderr",
     "output_type": "stream",
     "text": [
      "                                                            \r"
     ]
    },
    {
     "name": "stdout",
     "output_type": "stream",
     "text": [
      "Epoch 57, Loss: 0.1725 TrainAcc: 0.95, ValAcc: 0.44\n"
     ]
    },
    {
     "name": "stderr",
     "output_type": "stream",
     "text": [
      "                                                            \r"
     ]
    },
    {
     "name": "stdout",
     "output_type": "stream",
     "text": [
      "Epoch 58, Loss: 0.1692 TrainAcc: 0.95, ValAcc: 0.45\n"
     ]
    },
    {
     "name": "stderr",
     "output_type": "stream",
     "text": [
      "                                                            \r"
     ]
    },
    {
     "name": "stdout",
     "output_type": "stream",
     "text": [
      "Epoch 59, Loss: 0.1607 TrainAcc: 0.96, ValAcc: 0.44\n"
     ]
    },
    {
     "name": "stderr",
     "output_type": "stream",
     "text": [
      "                                                            \r"
     ]
    },
    {
     "name": "stdout",
     "output_type": "stream",
     "text": [
      "Epoch 60, Loss: 0.1469 TrainAcc: 0.96, ValAcc: 0.44\n"
     ]
    },
    {
     "name": "stderr",
     "output_type": "stream",
     "text": [
      "                                                            \r"
     ]
    },
    {
     "name": "stdout",
     "output_type": "stream",
     "text": [
      "Epoch 61, Loss: 0.1650 TrainAcc: 0.96, ValAcc: 0.44\n"
     ]
    },
    {
     "name": "stderr",
     "output_type": "stream",
     "text": [
      "                                                            \r"
     ]
    },
    {
     "name": "stdout",
     "output_type": "stream",
     "text": [
      "Epoch 62, Loss: 0.1337 TrainAcc: 0.96, ValAcc: 0.43\n"
     ]
    },
    {
     "name": "stderr",
     "output_type": "stream",
     "text": [
      "                                                            \r"
     ]
    },
    {
     "name": "stdout",
     "output_type": "stream",
     "text": [
      "Epoch 63, Loss: 0.1269 TrainAcc: 0.96, ValAcc: 0.44\n"
     ]
    },
    {
     "name": "stderr",
     "output_type": "stream",
     "text": [
      "                                                            \r"
     ]
    },
    {
     "name": "stdout",
     "output_type": "stream",
     "text": [
      "Epoch 64, Loss: 0.1375 TrainAcc: 0.97, ValAcc: 0.44\n"
     ]
    },
    {
     "name": "stderr",
     "output_type": "stream",
     "text": [
      "                                                            \r"
     ]
    },
    {
     "name": "stdout",
     "output_type": "stream",
     "text": [
      "Epoch 65, Loss: 0.1348 TrainAcc: 0.97, ValAcc: 0.43\n"
     ]
    },
    {
     "name": "stderr",
     "output_type": "stream",
     "text": [
      "                                                            \r"
     ]
    },
    {
     "name": "stdout",
     "output_type": "stream",
     "text": [
      "Epoch 66, Loss: 0.1133 TrainAcc: 0.97, ValAcc: 0.42\n"
     ]
    },
    {
     "name": "stderr",
     "output_type": "stream",
     "text": [
      "                                                            \r"
     ]
    },
    {
     "name": "stdout",
     "output_type": "stream",
     "text": [
      "Epoch 67, Loss: 0.1166 TrainAcc: 0.97, ValAcc: 0.44\n"
     ]
    },
    {
     "name": "stderr",
     "output_type": "stream",
     "text": [
      "                                                            \r"
     ]
    },
    {
     "name": "stdout",
     "output_type": "stream",
     "text": [
      "Epoch 68, Loss: 0.1142 TrainAcc: 0.97, ValAcc: 0.43\n"
     ]
    },
    {
     "name": "stderr",
     "output_type": "stream",
     "text": [
      "                                                            \r"
     ]
    },
    {
     "name": "stdout",
     "output_type": "stream",
     "text": [
      "Epoch 69, Loss: 0.1121 TrainAcc: 0.97, ValAcc: 0.44\n"
     ]
    },
    {
     "name": "stderr",
     "output_type": "stream",
     "text": [
      "                                                            \r"
     ]
    },
    {
     "name": "stdout",
     "output_type": "stream",
     "text": [
      "Epoch 70, Loss: 0.1158 TrainAcc: 0.97, ValAcc: 0.43\n"
     ]
    },
    {
     "name": "stderr",
     "output_type": "stream",
     "text": [
      "                                                            \r"
     ]
    },
    {
     "name": "stdout",
     "output_type": "stream",
     "text": [
      "Epoch 71, Loss: 0.1057 TrainAcc: 0.97, ValAcc: 0.43\n"
     ]
    },
    {
     "name": "stderr",
     "output_type": "stream",
     "text": [
      "                                                            \r"
     ]
    },
    {
     "name": "stdout",
     "output_type": "stream",
     "text": [
      "Epoch 72, Loss: 0.0997 TrainAcc: 0.97, ValAcc: 0.44\n"
     ]
    },
    {
     "name": "stderr",
     "output_type": "stream",
     "text": [
      "                                                            \r"
     ]
    },
    {
     "name": "stdout",
     "output_type": "stream",
     "text": [
      "Epoch 73, Loss: 0.0862 TrainAcc: 0.98, ValAcc: 0.42\n"
     ]
    },
    {
     "name": "stderr",
     "output_type": "stream",
     "text": [
      "                                                            \r"
     ]
    },
    {
     "name": "stdout",
     "output_type": "stream",
     "text": [
      "Epoch 74, Loss: 0.0812 TrainAcc: 0.98, ValAcc: 0.44\n"
     ]
    },
    {
     "name": "stderr",
     "output_type": "stream",
     "text": [
      "                                                            \r"
     ]
    },
    {
     "name": "stdout",
     "output_type": "stream",
     "text": [
      "Epoch 75, Loss: 0.1003 TrainAcc: 0.98, ValAcc: 0.44\n"
     ]
    },
    {
     "name": "stderr",
     "output_type": "stream",
     "text": [
      "                                                            \r"
     ]
    },
    {
     "name": "stdout",
     "output_type": "stream",
     "text": [
      "Epoch 76, Loss: 0.1154 TrainAcc: 0.96, ValAcc: 0.44\n"
     ]
    },
    {
     "name": "stderr",
     "output_type": "stream",
     "text": [
      "                                                            \r"
     ]
    },
    {
     "name": "stdout",
     "output_type": "stream",
     "text": [
      "Epoch 77, Loss: 0.1307 TrainAcc: 0.96, ValAcc: 0.44\n"
     ]
    },
    {
     "name": "stderr",
     "output_type": "stream",
     "text": [
      "                                                            \r"
     ]
    },
    {
     "name": "stdout",
     "output_type": "stream",
     "text": [
      "Epoch 78, Loss: 0.0945 TrainAcc: 0.97, ValAcc: 0.44\n"
     ]
    },
    {
     "name": "stderr",
     "output_type": "stream",
     "text": [
      "                                                            \r"
     ]
    },
    {
     "name": "stdout",
     "output_type": "stream",
     "text": [
      "Epoch 79, Loss: 0.1007 TrainAcc: 0.97, ValAcc: 0.44\n"
     ]
    },
    {
     "name": "stderr",
     "output_type": "stream",
     "text": [
      "                                                            \r"
     ]
    },
    {
     "name": "stdout",
     "output_type": "stream",
     "text": [
      "Epoch 80, Loss: 0.0882 TrainAcc: 0.97, ValAcc: 0.42\n"
     ]
    },
    {
     "name": "stderr",
     "output_type": "stream",
     "text": [
      "                                                            \r"
     ]
    },
    {
     "name": "stdout",
     "output_type": "stream",
     "text": [
      "Epoch 81, Loss: 0.0949 TrainAcc: 0.98, ValAcc: 0.43\n"
     ]
    },
    {
     "name": "stderr",
     "output_type": "stream",
     "text": [
      "                                                            \r"
     ]
    },
    {
     "name": "stdout",
     "output_type": "stream",
     "text": [
      "Epoch 82, Loss: 0.1027 TrainAcc: 0.97, ValAcc: 0.42\n"
     ]
    },
    {
     "name": "stderr",
     "output_type": "stream",
     "text": [
      "                                                            \r"
     ]
    },
    {
     "name": "stdout",
     "output_type": "stream",
     "text": [
      "Epoch 83, Loss: 0.1252 TrainAcc: 0.96, ValAcc: 0.43\n"
     ]
    },
    {
     "name": "stderr",
     "output_type": "stream",
     "text": [
      "                                                            \r"
     ]
    },
    {
     "name": "stdout",
     "output_type": "stream",
     "text": [
      "Epoch 84, Loss: 0.1681 TrainAcc: 0.96, ValAcc: 0.43\n"
     ]
    },
    {
     "name": "stderr",
     "output_type": "stream",
     "text": [
      "                                                            \r"
     ]
    },
    {
     "name": "stdout",
     "output_type": "stream",
     "text": [
      "Epoch 85, Loss: 0.1563 TrainAcc: 0.94, ValAcc: 0.44\n"
     ]
    },
    {
     "name": "stderr",
     "output_type": "stream",
     "text": [
      "                                                            \r"
     ]
    },
    {
     "name": "stdout",
     "output_type": "stream",
     "text": [
      "Epoch 86, Loss: 0.1379 TrainAcc: 0.95, ValAcc: 0.43\n"
     ]
    },
    {
     "name": "stderr",
     "output_type": "stream",
     "text": [
      "                                                            \r"
     ]
    },
    {
     "name": "stdout",
     "output_type": "stream",
     "text": [
      "Epoch 87, Loss: 0.1196 TrainAcc: 0.96, ValAcc: 0.43\n"
     ]
    },
    {
     "name": "stderr",
     "output_type": "stream",
     "text": [
      "                                                            \r"
     ]
    },
    {
     "name": "stdout",
     "output_type": "stream",
     "text": [
      "Epoch 88, Loss: 0.1056 TrainAcc: 0.96, ValAcc: 0.42\n"
     ]
    },
    {
     "name": "stderr",
     "output_type": "stream",
     "text": [
      "                                                            \r"
     ]
    },
    {
     "name": "stdout",
     "output_type": "stream",
     "text": [
      "Epoch 89, Loss: 0.1114 TrainAcc: 0.96, ValAcc: 0.43\n"
     ]
    },
    {
     "name": "stderr",
     "output_type": "stream",
     "text": [
      "                                                            \r"
     ]
    },
    {
     "name": "stdout",
     "output_type": "stream",
     "text": [
      "Epoch 90, Loss: 0.0996 TrainAcc: 0.96, ValAcc: 0.45\n"
     ]
    },
    {
     "name": "stderr",
     "output_type": "stream",
     "text": [
      "                                                            \r"
     ]
    },
    {
     "name": "stdout",
     "output_type": "stream",
     "text": [
      "Epoch 91, Loss: 0.0845 TrainAcc: 0.97, ValAcc: 0.44\n"
     ]
    },
    {
     "name": "stderr",
     "output_type": "stream",
     "text": [
      "                                                            \r"
     ]
    },
    {
     "name": "stdout",
     "output_type": "stream",
     "text": [
      "Epoch 92, Loss: 0.0846 TrainAcc: 0.98, ValAcc: 0.43\n"
     ]
    },
    {
     "name": "stderr",
     "output_type": "stream",
     "text": [
      "                                                            \r"
     ]
    },
    {
     "name": "stdout",
     "output_type": "stream",
     "text": [
      "Epoch 93, Loss: 0.1086 TrainAcc: 0.98, ValAcc: 0.44\n"
     ]
    },
    {
     "name": "stderr",
     "output_type": "stream",
     "text": [
      "                                                            \r"
     ]
    },
    {
     "name": "stdout",
     "output_type": "stream",
     "text": [
      "Epoch 94, Loss: 0.1055 TrainAcc: 0.97, ValAcc: 0.44\n"
     ]
    },
    {
     "name": "stderr",
     "output_type": "stream",
     "text": [
      "                                                            \r"
     ]
    },
    {
     "name": "stdout",
     "output_type": "stream",
     "text": [
      "Epoch 95, Loss: 0.0900 TrainAcc: 0.97, ValAcc: 0.42\n"
     ]
    },
    {
     "name": "stderr",
     "output_type": "stream",
     "text": [
      "                                                            \r"
     ]
    },
    {
     "name": "stdout",
     "output_type": "stream",
     "text": [
      "Epoch 96, Loss: 0.0858 TrainAcc: 0.97, ValAcc: 0.44\n"
     ]
    },
    {
     "name": "stderr",
     "output_type": "stream",
     "text": [
      "                                                            \r"
     ]
    },
    {
     "name": "stdout",
     "output_type": "stream",
     "text": [
      "Epoch 97, Loss: 0.0786 TrainAcc: 0.98, ValAcc: 0.43\n"
     ]
    },
    {
     "name": "stderr",
     "output_type": "stream",
     "text": [
      "                                                            \r"
     ]
    },
    {
     "name": "stdout",
     "output_type": "stream",
     "text": [
      "Epoch 98, Loss: 0.0836 TrainAcc: 0.97, ValAcc: 0.45\n"
     ]
    },
    {
     "name": "stderr",
     "output_type": "stream",
     "text": [
      "                                                            \r"
     ]
    },
    {
     "name": "stdout",
     "output_type": "stream",
     "text": [
      "Epoch 99, Loss: 0.0656 TrainAcc: 0.98, ValAcc: 0.42\n"
     ]
    },
    {
     "name": "stderr",
     "output_type": "stream",
     "text": [
      "                                                             \r"
     ]
    },
    {
     "name": "stdout",
     "output_type": "stream",
     "text": [
      "Epoch 100, Loss: 0.0654 TrainAcc: 0.98, ValAcc: 0.45\n"
     ]
    },
    {
     "name": "stderr",
     "output_type": "stream",
     "text": [
      "                                                             \r"
     ]
    },
    {
     "name": "stdout",
     "output_type": "stream",
     "text": [
      "Epoch 101, Loss: 0.0629 TrainAcc: 0.98, ValAcc: 0.45\n"
     ]
    },
    {
     "name": "stderr",
     "output_type": "stream",
     "text": [
      "                                                             \r"
     ]
    },
    {
     "name": "stdout",
     "output_type": "stream",
     "text": [
      "Epoch 102, Loss: 0.0641 TrainAcc: 0.98, ValAcc: 0.44\n"
     ]
    },
    {
     "name": "stderr",
     "output_type": "stream",
     "text": [
      "                                                             \r"
     ]
    },
    {
     "name": "stdout",
     "output_type": "stream",
     "text": [
      "Epoch 103, Loss: 0.0587 TrainAcc: 0.98, ValAcc: 0.44\n"
     ]
    },
    {
     "name": "stderr",
     "output_type": "stream",
     "text": [
      "                                                             \r"
     ]
    },
    {
     "name": "stdout",
     "output_type": "stream",
     "text": [
      "Epoch 104, Loss: 0.0519 TrainAcc: 0.98, ValAcc: 0.43\n"
     ]
    },
    {
     "name": "stderr",
     "output_type": "stream",
     "text": [
      "                                                             \r"
     ]
    },
    {
     "name": "stdout",
     "output_type": "stream",
     "text": [
      "Epoch 105, Loss: 0.0441 TrainAcc: 0.98, ValAcc: 0.43\n"
     ]
    },
    {
     "name": "stderr",
     "output_type": "stream",
     "text": [
      "                                                             \r"
     ]
    },
    {
     "name": "stdout",
     "output_type": "stream",
     "text": [
      "Epoch 106, Loss: 0.0394 TrainAcc: 0.99, ValAcc: 0.45\n"
     ]
    },
    {
     "name": "stderr",
     "output_type": "stream",
     "text": [
      "                                                             \r"
     ]
    },
    {
     "name": "stdout",
     "output_type": "stream",
     "text": [
      "Epoch 107, Loss: 0.0440 TrainAcc: 0.99, ValAcc: 0.45\n"
     ]
    },
    {
     "name": "stderr",
     "output_type": "stream",
     "text": [
      "                                                             \r"
     ]
    },
    {
     "name": "stdout",
     "output_type": "stream",
     "text": [
      "Epoch 108, Loss: 0.0398 TrainAcc: 0.99, ValAcc: 0.44\n"
     ]
    },
    {
     "name": "stderr",
     "output_type": "stream",
     "text": [
      "                                                             \r"
     ]
    },
    {
     "name": "stdout",
     "output_type": "stream",
     "text": [
      "Epoch 109, Loss: 0.0397 TrainAcc: 0.99, ValAcc: 0.44\n"
     ]
    },
    {
     "name": "stderr",
     "output_type": "stream",
     "text": [
      "                                                             \r"
     ]
    },
    {
     "name": "stdout",
     "output_type": "stream",
     "text": [
      "Epoch 110, Loss: 0.0453 TrainAcc: 0.99, ValAcc: 0.44\n"
     ]
    },
    {
     "name": "stderr",
     "output_type": "stream",
     "text": [
      "                                                             \r"
     ]
    },
    {
     "name": "stdout",
     "output_type": "stream",
     "text": [
      "Epoch 111, Loss: 0.0398 TrainAcc: 0.99, ValAcc: 0.44\n"
     ]
    },
    {
     "name": "stderr",
     "output_type": "stream",
     "text": [
      "                                                             \r"
     ]
    },
    {
     "name": "stdout",
     "output_type": "stream",
     "text": [
      "Epoch 112, Loss: 0.0482 TrainAcc: 0.99, ValAcc: 0.44\n"
     ]
    },
    {
     "name": "stderr",
     "output_type": "stream",
     "text": [
      "                                                             \r"
     ]
    },
    {
     "name": "stdout",
     "output_type": "stream",
     "text": [
      "Epoch 113, Loss: 0.0418 TrainAcc: 0.99, ValAcc: 0.45\n"
     ]
    },
    {
     "name": "stderr",
     "output_type": "stream",
     "text": [
      "                                                             \r"
     ]
    },
    {
     "name": "stdout",
     "output_type": "stream",
     "text": [
      "Epoch 114, Loss: 0.0486 TrainAcc: 0.99, ValAcc: 0.45\n"
     ]
    },
    {
     "name": "stderr",
     "output_type": "stream",
     "text": [
      "                                                             \r"
     ]
    },
    {
     "name": "stdout",
     "output_type": "stream",
     "text": [
      "Epoch 115, Loss: 0.0478 TrainAcc: 0.98, ValAcc: 0.44\n"
     ]
    },
    {
     "name": "stderr",
     "output_type": "stream",
     "text": [
      "                                                             \r"
     ]
    },
    {
     "name": "stdout",
     "output_type": "stream",
     "text": [
      "Epoch 116, Loss: 0.0421 TrainAcc: 0.99, ValAcc: 0.43\n"
     ]
    },
    {
     "name": "stderr",
     "output_type": "stream",
     "text": [
      "                                                             \r"
     ]
    },
    {
     "name": "stdout",
     "output_type": "stream",
     "text": [
      "Epoch 117, Loss: 0.0427 TrainAcc: 0.99, ValAcc: 0.44\n"
     ]
    },
    {
     "name": "stderr",
     "output_type": "stream",
     "text": [
      "                                                             \r"
     ]
    },
    {
     "name": "stdout",
     "output_type": "stream",
     "text": [
      "Epoch 118, Loss: 0.0339 TrainAcc: 0.99, ValAcc: 0.44\n"
     ]
    },
    {
     "name": "stderr",
     "output_type": "stream",
     "text": [
      "                                                             \r"
     ]
    },
    {
     "name": "stdout",
     "output_type": "stream",
     "text": [
      "Epoch 119, Loss: 0.0545 TrainAcc: 0.98, ValAcc: 0.43\n"
     ]
    },
    {
     "name": "stderr",
     "output_type": "stream",
     "text": [
      "                                                             \r"
     ]
    },
    {
     "name": "stdout",
     "output_type": "stream",
     "text": [
      "Epoch 120, Loss: 0.0558 TrainAcc: 0.98, ValAcc: 0.43\n"
     ]
    },
    {
     "name": "stderr",
     "output_type": "stream",
     "text": [
      "                                                             \r"
     ]
    },
    {
     "name": "stdout",
     "output_type": "stream",
     "text": [
      "Epoch 121, Loss: 0.0525 TrainAcc: 0.98, ValAcc: 0.44\n"
     ]
    },
    {
     "name": "stderr",
     "output_type": "stream",
     "text": [
      "                                                             \r"
     ]
    },
    {
     "name": "stdout",
     "output_type": "stream",
     "text": [
      "Epoch 122, Loss: 0.0517 TrainAcc: 0.98, ValAcc: 0.45\n"
     ]
    },
    {
     "name": "stderr",
     "output_type": "stream",
     "text": [
      "                                                             \r"
     ]
    },
    {
     "name": "stdout",
     "output_type": "stream",
     "text": [
      "Epoch 123, Loss: 0.0428 TrainAcc: 0.99, ValAcc: 0.44\n"
     ]
    },
    {
     "name": "stderr",
     "output_type": "stream",
     "text": [
      "                                                             \r"
     ]
    },
    {
     "name": "stdout",
     "output_type": "stream",
     "text": [
      "Epoch 124, Loss: 0.0364 TrainAcc: 0.99, ValAcc: 0.43\n"
     ]
    },
    {
     "name": "stderr",
     "output_type": "stream",
     "text": [
      "                                                             \r"
     ]
    },
    {
     "name": "stdout",
     "output_type": "stream",
     "text": [
      "Epoch 125, Loss: 0.0330 TrainAcc: 0.99, ValAcc: 0.45\n"
     ]
    },
    {
     "name": "stderr",
     "output_type": "stream",
     "text": [
      "                                                             \r"
     ]
    },
    {
     "name": "stdout",
     "output_type": "stream",
     "text": [
      "Epoch 126, Loss: 0.0367 TrainAcc: 0.99, ValAcc: 0.45\n"
     ]
    },
    {
     "name": "stderr",
     "output_type": "stream",
     "text": [
      "                                                             \r"
     ]
    },
    {
     "name": "stdout",
     "output_type": "stream",
     "text": [
      "Epoch 127, Loss: 0.0390 TrainAcc: 0.99, ValAcc: 0.44\n"
     ]
    },
    {
     "name": "stderr",
     "output_type": "stream",
     "text": [
      "                                                             \r"
     ]
    },
    {
     "name": "stdout",
     "output_type": "stream",
     "text": [
      "Epoch 128, Loss: 0.0299 TrainAcc: 0.99, ValAcc: 0.44\n"
     ]
    },
    {
     "name": "stderr",
     "output_type": "stream",
     "text": [
      "                                                             \r"
     ]
    },
    {
     "name": "stdout",
     "output_type": "stream",
     "text": [
      "Epoch 129, Loss: 0.0405 TrainAcc: 0.99, ValAcc: 0.44\n"
     ]
    },
    {
     "name": "stderr",
     "output_type": "stream",
     "text": [
      "                                                             \r"
     ]
    },
    {
     "name": "stdout",
     "output_type": "stream",
     "text": [
      "Epoch 130, Loss: 0.0347 TrainAcc: 0.99, ValAcc: 0.44\n"
     ]
    },
    {
     "name": "stderr",
     "output_type": "stream",
     "text": [
      "                                                             \r"
     ]
    },
    {
     "name": "stdout",
     "output_type": "stream",
     "text": [
      "Epoch 131, Loss: 0.0289 TrainAcc: 0.99, ValAcc: 0.44\n"
     ]
    },
    {
     "name": "stderr",
     "output_type": "stream",
     "text": [
      "                                                             \r"
     ]
    },
    {
     "name": "stdout",
     "output_type": "stream",
     "text": [
      "Epoch 132, Loss: 0.0341 TrainAcc: 0.98, ValAcc: 0.43\n"
     ]
    },
    {
     "name": "stderr",
     "output_type": "stream",
     "text": [
      "                                                             \r"
     ]
    },
    {
     "name": "stdout",
     "output_type": "stream",
     "text": [
      "Epoch 133, Loss: 0.0344 TrainAcc: 0.99, ValAcc: 0.44\n"
     ]
    },
    {
     "name": "stderr",
     "output_type": "stream",
     "text": [
      "                                                             \r"
     ]
    },
    {
     "name": "stdout",
     "output_type": "stream",
     "text": [
      "Epoch 134, Loss: 0.0310 TrainAcc: 0.99, ValAcc: 0.44\n"
     ]
    },
    {
     "name": "stderr",
     "output_type": "stream",
     "text": [
      "                                                             \r"
     ]
    },
    {
     "name": "stdout",
     "output_type": "stream",
     "text": [
      "Epoch 135, Loss: 0.0279 TrainAcc: 0.99, ValAcc: 0.43\n"
     ]
    },
    {
     "name": "stderr",
     "output_type": "stream",
     "text": [
      "                                                             \r"
     ]
    },
    {
     "name": "stdout",
     "output_type": "stream",
     "text": [
      "Epoch 136, Loss: 0.0358 TrainAcc: 0.99, ValAcc: 0.44\n"
     ]
    },
    {
     "name": "stderr",
     "output_type": "stream",
     "text": [
      "                                                             \r"
     ]
    },
    {
     "name": "stdout",
     "output_type": "stream",
     "text": [
      "Epoch 137, Loss: 0.0364 TrainAcc: 0.99, ValAcc: 0.43\n"
     ]
    },
    {
     "name": "stderr",
     "output_type": "stream",
     "text": [
      "                                                             \r"
     ]
    },
    {
     "name": "stdout",
     "output_type": "stream",
     "text": [
      "Epoch 138, Loss: 0.0449 TrainAcc: 0.98, ValAcc: 0.44\n"
     ]
    },
    {
     "name": "stderr",
     "output_type": "stream",
     "text": [
      "                                                             \r"
     ]
    },
    {
     "name": "stdout",
     "output_type": "stream",
     "text": [
      "Epoch 139, Loss: 0.0515 TrainAcc: 0.98, ValAcc: 0.44\n"
     ]
    },
    {
     "name": "stderr",
     "output_type": "stream",
     "text": [
      "                                                             \r"
     ]
    },
    {
     "name": "stdout",
     "output_type": "stream",
     "text": [
      "Epoch 140, Loss: 0.0378 TrainAcc: 0.99, ValAcc: 0.43\n"
     ]
    },
    {
     "name": "stderr",
     "output_type": "stream",
     "text": [
      "                                                             \r"
     ]
    },
    {
     "name": "stdout",
     "output_type": "stream",
     "text": [
      "Epoch 141, Loss: 0.0339 TrainAcc: 0.99, ValAcc: 0.44\n"
     ]
    },
    {
     "name": "stderr",
     "output_type": "stream",
     "text": [
      "                                                             \r"
     ]
    },
    {
     "name": "stdout",
     "output_type": "stream",
     "text": [
      "Epoch 142, Loss: 0.0362 TrainAcc: 0.99, ValAcc: 0.43\n"
     ]
    },
    {
     "name": "stderr",
     "output_type": "stream",
     "text": [
      "                                                             \r"
     ]
    },
    {
     "name": "stdout",
     "output_type": "stream",
     "text": [
      "Epoch 143, Loss: 0.0344 TrainAcc: 0.99, ValAcc: 0.43\n"
     ]
    },
    {
     "name": "stderr",
     "output_type": "stream",
     "text": [
      "                                                             \r"
     ]
    },
    {
     "name": "stdout",
     "output_type": "stream",
     "text": [
      "Epoch 144, Loss: 0.0294 TrainAcc: 0.99, ValAcc: 0.44\n"
     ]
    },
    {
     "name": "stderr",
     "output_type": "stream",
     "text": [
      "                                                             \r"
     ]
    },
    {
     "name": "stdout",
     "output_type": "stream",
     "text": [
      "Epoch 145, Loss: 0.0270 TrainAcc: 0.99, ValAcc: 0.43\n"
     ]
    },
    {
     "name": "stderr",
     "output_type": "stream",
     "text": [
      "                                                             \r"
     ]
    },
    {
     "name": "stdout",
     "output_type": "stream",
     "text": [
      "Epoch 146, Loss: 0.0344 TrainAcc: 0.99, ValAcc: 0.44\n"
     ]
    },
    {
     "name": "stderr",
     "output_type": "stream",
     "text": [
      "                                                             \r"
     ]
    },
    {
     "name": "stdout",
     "output_type": "stream",
     "text": [
      "Epoch 147, Loss: 0.0276 TrainAcc: 0.99, ValAcc: 0.44\n"
     ]
    },
    {
     "name": "stderr",
     "output_type": "stream",
     "text": [
      "                                                             \r"
     ]
    },
    {
     "name": "stdout",
     "output_type": "stream",
     "text": [
      "Epoch 148, Loss: 0.0297 TrainAcc: 0.99, ValAcc: 0.44\n"
     ]
    },
    {
     "name": "stderr",
     "output_type": "stream",
     "text": [
      "                                                             \r"
     ]
    },
    {
     "name": "stdout",
     "output_type": "stream",
     "text": [
      "Epoch 149, Loss: 0.0306 TrainAcc: 0.99, ValAcc: 0.43\n"
     ]
    },
    {
     "name": "stderr",
     "output_type": "stream",
     "text": [
      "                                                             \r"
     ]
    },
    {
     "name": "stdout",
     "output_type": "stream",
     "text": [
      "Epoch 150, Loss: 0.0349 TrainAcc: 0.98, ValAcc: 0.44\n"
     ]
    },
    {
     "name": "stderr",
     "output_type": "stream",
     "text": [
      "                                                             \r"
     ]
    },
    {
     "name": "stdout",
     "output_type": "stream",
     "text": [
      "Epoch 151, Loss: 0.0376 TrainAcc: 0.98, ValAcc: 0.43\n"
     ]
    },
    {
     "name": "stderr",
     "output_type": "stream",
     "text": [
      "                                                             \r"
     ]
    },
    {
     "name": "stdout",
     "output_type": "stream",
     "text": [
      "Epoch 152, Loss: 0.0428 TrainAcc: 0.99, ValAcc: 0.44\n"
     ]
    },
    {
     "name": "stderr",
     "output_type": "stream",
     "text": [
      "                                                             \r"
     ]
    },
    {
     "name": "stdout",
     "output_type": "stream",
     "text": [
      "Epoch 153, Loss: 0.0363 TrainAcc: 0.98, ValAcc: 0.44\n"
     ]
    },
    {
     "name": "stderr",
     "output_type": "stream",
     "text": [
      "                                                             \r"
     ]
    },
    {
     "name": "stdout",
     "output_type": "stream",
     "text": [
      "Epoch 154, Loss: 0.0338 TrainAcc: 0.99, ValAcc: 0.43\n"
     ]
    },
    {
     "name": "stderr",
     "output_type": "stream",
     "text": [
      "                                                             \r"
     ]
    },
    {
     "name": "stdout",
     "output_type": "stream",
     "text": [
      "Epoch 155, Loss: 0.0247 TrainAcc: 0.99, ValAcc: 0.42\n"
     ]
    },
    {
     "name": "stderr",
     "output_type": "stream",
     "text": [
      "                                                             \r"
     ]
    },
    {
     "name": "stdout",
     "output_type": "stream",
     "text": [
      "Epoch 156, Loss: 0.0287 TrainAcc: 0.99, ValAcc: 0.43\n"
     ]
    },
    {
     "name": "stderr",
     "output_type": "stream",
     "text": [
      "                                                             \r"
     ]
    },
    {
     "name": "stdout",
     "output_type": "stream",
     "text": [
      "Epoch 157, Loss: 0.0242 TrainAcc: 0.99, ValAcc: 0.43\n"
     ]
    },
    {
     "name": "stderr",
     "output_type": "stream",
     "text": [
      "                                                             \r"
     ]
    },
    {
     "name": "stdout",
     "output_type": "stream",
     "text": [
      "Epoch 158, Loss: 0.0241 TrainAcc: 0.99, ValAcc: 0.44\n"
     ]
    },
    {
     "name": "stderr",
     "output_type": "stream",
     "text": [
      "                                                             \r"
     ]
    },
    {
     "name": "stdout",
     "output_type": "stream",
     "text": [
      "Epoch 159, Loss: 0.0212 TrainAcc: 0.99, ValAcc: 0.44\n"
     ]
    },
    {
     "name": "stderr",
     "output_type": "stream",
     "text": [
      "                                                             \r"
     ]
    },
    {
     "name": "stdout",
     "output_type": "stream",
     "text": [
      "Epoch 160, Loss: 0.0242 TrainAcc: 0.99, ValAcc: 0.43\n"
     ]
    },
    {
     "name": "stderr",
     "output_type": "stream",
     "text": [
      "                                                             \r"
     ]
    },
    {
     "name": "stdout",
     "output_type": "stream",
     "text": [
      "Epoch 161, Loss: 0.0211 TrainAcc: 0.99, ValAcc: 0.44\n"
     ]
    },
    {
     "name": "stderr",
     "output_type": "stream",
     "text": [
      "                                                             \r"
     ]
    },
    {
     "name": "stdout",
     "output_type": "stream",
     "text": [
      "Epoch 162, Loss: 0.0265 TrainAcc: 0.99, ValAcc: 0.44\n"
     ]
    },
    {
     "name": "stderr",
     "output_type": "stream",
     "text": [
      "                                                             \r"
     ]
    },
    {
     "name": "stdout",
     "output_type": "stream",
     "text": [
      "Epoch 163, Loss: 0.0249 TrainAcc: 0.99, ValAcc: 0.44\n"
     ]
    },
    {
     "name": "stderr",
     "output_type": "stream",
     "text": [
      "                                                             \r"
     ]
    },
    {
     "name": "stdout",
     "output_type": "stream",
     "text": [
      "Epoch 164, Loss: 0.0227 TrainAcc: 0.99, ValAcc: 0.43\n"
     ]
    },
    {
     "name": "stderr",
     "output_type": "stream",
     "text": [
      "                                                             \r"
     ]
    },
    {
     "name": "stdout",
     "output_type": "stream",
     "text": [
      "Epoch 165, Loss: 0.0250 TrainAcc: 0.99, ValAcc: 0.43\n"
     ]
    },
    {
     "name": "stderr",
     "output_type": "stream",
     "text": [
      "                                                             \r"
     ]
    },
    {
     "name": "stdout",
     "output_type": "stream",
     "text": [
      "Epoch 166, Loss: 0.0252 TrainAcc: 0.99, ValAcc: 0.43\n"
     ]
    },
    {
     "name": "stderr",
     "output_type": "stream",
     "text": [
      "                                                             \r"
     ]
    },
    {
     "name": "stdout",
     "output_type": "stream",
     "text": [
      "Epoch 167, Loss: 0.0256 TrainAcc: 0.99, ValAcc: 0.43\n"
     ]
    },
    {
     "name": "stderr",
     "output_type": "stream",
     "text": [
      "                                                             \r"
     ]
    },
    {
     "name": "stdout",
     "output_type": "stream",
     "text": [
      "Epoch 168, Loss: 0.0215 TrainAcc: 0.99, ValAcc: 0.42\n"
     ]
    },
    {
     "name": "stderr",
     "output_type": "stream",
     "text": [
      "                                                             \r"
     ]
    },
    {
     "name": "stdout",
     "output_type": "stream",
     "text": [
      "Epoch 169, Loss: 0.0215 TrainAcc: 0.99, ValAcc: 0.44\n"
     ]
    },
    {
     "name": "stderr",
     "output_type": "stream",
     "text": [
      "                                                             \r"
     ]
    },
    {
     "name": "stdout",
     "output_type": "stream",
     "text": [
      "Epoch 170, Loss: 0.0297 TrainAcc: 0.99, ValAcc: 0.44\n"
     ]
    },
    {
     "name": "stderr",
     "output_type": "stream",
     "text": [
      "                                                             \r"
     ]
    },
    {
     "name": "stdout",
     "output_type": "stream",
     "text": [
      "Epoch 171, Loss: 0.0211 TrainAcc: 0.99, ValAcc: 0.43\n"
     ]
    },
    {
     "name": "stderr",
     "output_type": "stream",
     "text": [
      "                                                             \r"
     ]
    },
    {
     "name": "stdout",
     "output_type": "stream",
     "text": [
      "Epoch 172, Loss: 0.0396 TrainAcc: 0.99, ValAcc: 0.42\n"
     ]
    },
    {
     "name": "stderr",
     "output_type": "stream",
     "text": [
      "                                                             \r"
     ]
    },
    {
     "name": "stdout",
     "output_type": "stream",
     "text": [
      "Epoch 173, Loss: 0.0302 TrainAcc: 0.99, ValAcc: 0.44\n"
     ]
    },
    {
     "name": "stderr",
     "output_type": "stream",
     "text": [
      "                                                             \r"
     ]
    },
    {
     "name": "stdout",
     "output_type": "stream",
     "text": [
      "Epoch 174, Loss: 0.0373 TrainAcc: 0.98, ValAcc: 0.44\n"
     ]
    },
    {
     "name": "stderr",
     "output_type": "stream",
     "text": [
      "                                                             \r"
     ]
    },
    {
     "name": "stdout",
     "output_type": "stream",
     "text": [
      "Epoch 175, Loss: 0.0423 TrainAcc: 0.98, ValAcc: 0.42\n"
     ]
    },
    {
     "name": "stderr",
     "output_type": "stream",
     "text": [
      "                                                             \r"
     ]
    },
    {
     "name": "stdout",
     "output_type": "stream",
     "text": [
      "Epoch 176, Loss: 0.0402 TrainAcc: 0.98, ValAcc: 0.44\n"
     ]
    },
    {
     "name": "stderr",
     "output_type": "stream",
     "text": [
      "                                                             \r"
     ]
    },
    {
     "name": "stdout",
     "output_type": "stream",
     "text": [
      "Epoch 177, Loss: 0.0402 TrainAcc: 0.98, ValAcc: 0.43\n"
     ]
    },
    {
     "name": "stderr",
     "output_type": "stream",
     "text": [
      "                                                             \r"
     ]
    },
    {
     "name": "stdout",
     "output_type": "stream",
     "text": [
      "Epoch 178, Loss: 0.0400 TrainAcc: 0.98, ValAcc: 0.44\n"
     ]
    },
    {
     "name": "stderr",
     "output_type": "stream",
     "text": [
      "                                                             \r"
     ]
    },
    {
     "name": "stdout",
     "output_type": "stream",
     "text": [
      "Epoch 179, Loss: 0.0409 TrainAcc: 0.98, ValAcc: 0.43\n"
     ]
    },
    {
     "name": "stderr",
     "output_type": "stream",
     "text": [
      "                                                             \r"
     ]
    },
    {
     "name": "stdout",
     "output_type": "stream",
     "text": [
      "Epoch 180, Loss: 0.0437 TrainAcc: 0.99, ValAcc: 0.44\n"
     ]
    },
    {
     "name": "stderr",
     "output_type": "stream",
     "text": [
      "                                                             \r"
     ]
    },
    {
     "name": "stdout",
     "output_type": "stream",
     "text": [
      "Epoch 181, Loss: 0.0451 TrainAcc: 0.99, ValAcc: 0.45\n"
     ]
    },
    {
     "name": "stderr",
     "output_type": "stream",
     "text": [
      "                                                             \r"
     ]
    },
    {
     "name": "stdout",
     "output_type": "stream",
     "text": [
      "Epoch 182, Loss: 0.0493 TrainAcc: 0.98, ValAcc: 0.42\n"
     ]
    },
    {
     "name": "stderr",
     "output_type": "stream",
     "text": [
      "                                                             \r"
     ]
    },
    {
     "name": "stdout",
     "output_type": "stream",
     "text": [
      "Epoch 183, Loss: 0.0422 TrainAcc: 0.98, ValAcc: 0.44\n"
     ]
    },
    {
     "name": "stderr",
     "output_type": "stream",
     "text": [
      "                                                             \r"
     ]
    },
    {
     "name": "stdout",
     "output_type": "stream",
     "text": [
      "Epoch 184, Loss: 0.0389 TrainAcc: 0.99, ValAcc: 0.45\n"
     ]
    },
    {
     "name": "stderr",
     "output_type": "stream",
     "text": [
      "                                                             \r"
     ]
    },
    {
     "name": "stdout",
     "output_type": "stream",
     "text": [
      "Epoch 185, Loss: 0.0300 TrainAcc: 0.99, ValAcc: 0.44\n"
     ]
    },
    {
     "name": "stderr",
     "output_type": "stream",
     "text": [
      "                                                             \r"
     ]
    },
    {
     "name": "stdout",
     "output_type": "stream",
     "text": [
      "Epoch 186, Loss: 0.0267 TrainAcc: 0.99, ValAcc: 0.43\n"
     ]
    },
    {
     "name": "stderr",
     "output_type": "stream",
     "text": [
      "                                                             \r"
     ]
    },
    {
     "name": "stdout",
     "output_type": "stream",
     "text": [
      "Epoch 187, Loss: 0.0272 TrainAcc: 0.99, ValAcc: 0.44\n"
     ]
    },
    {
     "name": "stderr",
     "output_type": "stream",
     "text": [
      "                                                             \r"
     ]
    },
    {
     "name": "stdout",
     "output_type": "stream",
     "text": [
      "Epoch 188, Loss: 0.0194 TrainAcc: 0.99, ValAcc: 0.44\n"
     ]
    },
    {
     "name": "stderr",
     "output_type": "stream",
     "text": [
      "                                                             \r"
     ]
    },
    {
     "name": "stdout",
     "output_type": "stream",
     "text": [
      "Epoch 189, Loss: 0.0216 TrainAcc: 0.99, ValAcc: 0.44\n"
     ]
    },
    {
     "name": "stderr",
     "output_type": "stream",
     "text": [
      "                                                             \r"
     ]
    },
    {
     "name": "stdout",
     "output_type": "stream",
     "text": [
      "Epoch 190, Loss: 0.0232 TrainAcc: 0.99, ValAcc: 0.44\n"
     ]
    },
    {
     "name": "stderr",
     "output_type": "stream",
     "text": [
      "                                                             \r"
     ]
    },
    {
     "name": "stdout",
     "output_type": "stream",
     "text": [
      "Epoch 191, Loss: 0.0263 TrainAcc: 0.99, ValAcc: 0.43\n"
     ]
    },
    {
     "name": "stderr",
     "output_type": "stream",
     "text": [
      "                                                             \r"
     ]
    },
    {
     "name": "stdout",
     "output_type": "stream",
     "text": [
      "Epoch 192, Loss: 0.0244 TrainAcc: 0.99, ValAcc: 0.44\n"
     ]
    },
    {
     "name": "stderr",
     "output_type": "stream",
     "text": [
      "                                                             \r"
     ]
    },
    {
     "name": "stdout",
     "output_type": "stream",
     "text": [
      "Epoch 193, Loss: 0.0305 TrainAcc: 0.99, ValAcc: 0.44\n"
     ]
    },
    {
     "name": "stderr",
     "output_type": "stream",
     "text": [
      "                                                             \r"
     ]
    },
    {
     "name": "stdout",
     "output_type": "stream",
     "text": [
      "Epoch 194, Loss: 0.0231 TrainAcc: 0.99, ValAcc: 0.43\n"
     ]
    },
    {
     "name": "stderr",
     "output_type": "stream",
     "text": [
      "                                                             \r"
     ]
    },
    {
     "name": "stdout",
     "output_type": "stream",
     "text": [
      "Epoch 195, Loss: 0.0260 TrainAcc: 0.99, ValAcc: 0.43\n"
     ]
    },
    {
     "name": "stderr",
     "output_type": "stream",
     "text": [
      "                                                             \r"
     ]
    },
    {
     "name": "stdout",
     "output_type": "stream",
     "text": [
      "Epoch 196, Loss: 0.0283 TrainAcc: 0.99, ValAcc: 0.44\n"
     ]
    },
    {
     "name": "stderr",
     "output_type": "stream",
     "text": [
      "                                                             \r"
     ]
    },
    {
     "name": "stdout",
     "output_type": "stream",
     "text": [
      "Epoch 197, Loss: 0.0248 TrainAcc: 0.99, ValAcc: 0.44\n"
     ]
    },
    {
     "name": "stderr",
     "output_type": "stream",
     "text": [
      "                                                             \r"
     ]
    },
    {
     "name": "stdout",
     "output_type": "stream",
     "text": [
      "Epoch 198, Loss: 0.0212 TrainAcc: 0.99, ValAcc: 0.44\n"
     ]
    },
    {
     "name": "stderr",
     "output_type": "stream",
     "text": [
      "                                                             "
     ]
    },
    {
     "name": "stdout",
     "output_type": "stream",
     "text": [
      "Epoch 199, Loss: 0.0257 TrainAcc: 0.99, ValAcc: 0.44\n"
     ]
    },
    {
     "name": "stderr",
     "output_type": "stream",
     "text": [
      "\r"
     ]
    }
   ],
   "source": [
    "epochs = 200\n",
    "\n",
    "SOS_TOKEN = 0\n",
    "PAD_TOKEN = 15\n",
    "\n",
    "# Define a simple training loop (example)\n",
    "criterion = nn.CrossEntropyLoss(ignore_index=PAD_TOKEN)\n",
    "optimizer = torch.optim.Adam(model.parameters(), lr=0.001)\n",
    "\n",
    "train_preds_epoch, val_preds_epoch = [], []\n",
    "train_targets_epoch, val_targets_epoch = [], []\n",
    "train_mask_epoch, val_mask_epoch = [], []\n",
    "train_acc_epoch, val_acc_epoch = [], []\n",
    "\n",
    "train_pr_epoch, val_pr_epoch = [], []\n",
    "train_pr_micro_epoch, val_pr_micro_epoch = [], []\n",
    "\n",
    "train_rec_epoch, val_rec_epoch = [], []\n",
    "train_rec_micro_epoch, val_rec_micro_epoch = [], []\n",
    "\n",
    "train_score_epoch, val_score_epoch = [], []\n",
    "train_score_micro_epoch, val_score_micro_epoch = [], []\n",
    "\n",
    "train_edit_epoch, val_edit_epoch = [], []\n",
    "train_loss_epoch = []\n",
    "\n",
    "for epoch in range(epochs):\n",
    "\n",
    "    # Training mode\n",
    "    model.train()\n",
    "\n",
    "    # Move model to device\n",
    "    device = torch.device(\"cuda\" if torch.cuda.is_available() else \"cpu\")\n",
    "    model.to(device)\n",
    "\n",
    "    (\n",
    "        train_preds,\n",
    "        train_targets,\n",
    "        train_masks,\n",
    "    ) = (\n",
    "        [],\n",
    "        [],\n",
    "        [],\n",
    "    )\n",
    "    train_loss, train_acc, train_pr, train_rec, train_score, train_edit = (\n",
    "        [],\n",
    "        [],\n",
    "        [],\n",
    "        [],\n",
    "        [],\n",
    "        [],\n",
    "    )\n",
    "\n",
    "    for batch in tqdm(train_dataloader, desc=f\"Epoch {epoch}\", leave=False):\n",
    "        src = batch[\"cas\"]\n",
    "        tgt = batch[\"sequence\"]\n",
    "\n",
    "        # Move to device\n",
    "        src = src.to(device)\n",
    "        tgt = tgt.to(device)\n",
    "\n",
    "        optimizer.zero_grad()\n",
    "        logits = model(src, tgt)\n",
    "\n",
    "        # Slice first element of last dimension\n",
    "        tgt = tgt[:, 1:]\n",
    "\n",
    "        # Reshape logits to [B, S, C] -> [B, C, S]\n",
    "        logits = logits.permute(0, 2, 1)\n",
    "        loss = criterion(logits.float(), tgt.long())\n",
    "        train_loss.append(loss.item())\n",
    "\n",
    "        # Mask to ignore padding\n",
    "        mask = tgt != PAD_TOKEN\n",
    "\n",
    "        # Get predictions\n",
    "        predicted = torch.argmax(model.inference(src, max_seq_len), dim=-1)\n",
    "\n",
    "        train_targets.append(tgt.detach().cpu().numpy())\n",
    "        train_preds.append(predicted.detach().cpu().numpy())\n",
    "        train_masks.append(mask.detach().cpu().numpy())\n",
    "\n",
    "        # Backward pass\n",
    "        loss.backward()\n",
    "        optimizer.step()\n",
    "\n",
    "    train_targets = np.concatenate(train_targets, axis=0)\n",
    "    train_preds = np.concatenate(train_preds, axis=0)\n",
    "    train_masks = np.concatenate(train_masks, axis=0)\n",
    "\n",
    "    # Calculate accuracy\n",
    "    train_acc = accuracy_score(\n",
    "        train_targets[train_masks],\n",
    "        train_preds[train_masks],\n",
    "    )\n",
    "\n",
    "    # Calculate precision, recall, f1, support\n",
    "    train_pr, train_rec, train_score, _ = precision_recall_fscore_support(\n",
    "        train_targets[train_masks],\n",
    "        train_preds[train_masks],\n",
    "        average=\"macro\",\n",
    "        zero_division=0,\n",
    "    )\n",
    "\n",
    "    train_pr_micro, train_rec_micro, train_score_micro, _ = (\n",
    "        precision_recall_fscore_support(\n",
    "            train_targets[train_masks],\n",
    "            train_preds[train_masks],\n",
    "            average=\"micro\",\n",
    "            zero_division=0,\n",
    "        )\n",
    "    )\n",
    "\n",
    "    train_preds_epoch.append(train_preds)\n",
    "    train_targets_epoch.append(train_targets)\n",
    "    train_mask_epoch.append(train_masks)\n",
    "\n",
    "    train_acc_epoch.append(train_acc)\n",
    "    train_pr_epoch.append(train_pr)\n",
    "    train_pr_micro_epoch.append(train_pr_micro)\n",
    "    train_rec_epoch.append(train_rec)\n",
    "    train_rec_micro_epoch.append(train_rec_micro)\n",
    "    train_score_epoch.append(train_score)\n",
    "    train_score_micro_epoch.append(train_score_micro)\n",
    "\n",
    "    train_loss_epoch.append(np.mean(train_loss))\n",
    "\n",
    "    # Validation mode\n",
    "    model.eval()\n",
    "    val_preds, val_targets, val_mask = [], [], []\n",
    "    val_acc, val_pr, val_rec, val_score, val_edit = [], [], [], [], []\n",
    "\n",
    "    for val_batch in tqdm(val_dataloader, desc=f\"Validation {epoch}\", leave=False):\n",
    "        src = val_batch[\"cas\"]\n",
    "        tgt = val_batch[\"sequence\"]\n",
    "\n",
    "        # Move to device\n",
    "        src = src.to(device)\n",
    "        tgt = tgt.to(device)\n",
    "\n",
    "        logits = model.inference(src, max_seq_len)\n",
    "\n",
    "        # Slice first element\n",
    "        tgt = tgt[:, 1:]\n",
    "\n",
    "        # Mask to ignore padding\n",
    "        mask = tgt != PAD_TOKEN\n",
    "\n",
    "        # Get predictions\n",
    "        predicted = torch.argmax(logits, dim=-1)\n",
    "\n",
    "        val_targets.append(tgt.detach().cpu().numpy())\n",
    "        val_preds.append(predicted.detach().cpu().numpy())\n",
    "        val_mask.append(mask.detach().cpu().numpy())\n",
    "\n",
    "    val_targets = np.concatenate(val_targets, axis=0)\n",
    "    val_preds = np.concatenate(val_preds, axis=0)\n",
    "    val_mask = np.concatenate(val_mask, axis=0)\n",
    "\n",
    "    # Calculate accuracy\n",
    "    val_acc = accuracy_score(\n",
    "        val_targets[val_mask],\n",
    "        val_preds[val_mask],\n",
    "    )\n",
    "\n",
    "    # Calculate precision, recall, f1, support\n",
    "    val_pr, val_rec, val_score, _ = precision_recall_fscore_support(\n",
    "        val_targets[val_mask],\n",
    "        val_preds[val_mask],\n",
    "        average=\"macro\",\n",
    "        zero_division=0,\n",
    "    )\n",
    "\n",
    "    val_pr_micro, val_rec_micro, val_score_micro, _ = precision_recall_fscore_support(\n",
    "        val_targets[val_mask],\n",
    "        val_preds[val_mask],\n",
    "        average=\"micro\",\n",
    "        zero_division=0,\n",
    "    )\n",
    "\n",
    "    val_preds_epoch.append(val_preds)\n",
    "    val_targets_epoch.append(val_targets)\n",
    "    val_mask_epoch.append(val_mask)\n",
    "\n",
    "    val_acc_epoch.append(val_acc)\n",
    "    val_pr_epoch.append(val_pr)\n",
    "    val_pr_micro_epoch.append(val_pr_micro)\n",
    "    val_rec_epoch.append(val_rec)\n",
    "    val_rec_micro_epoch.append(val_rec_micro)\n",
    "    val_score_epoch.append(val_score)\n",
    "    val_score_micro_epoch.append(val_score_micro)\n",
    "\n",
    "    print(\n",
    "        f\"Epoch {epoch}, Loss: {np.mean(train_loss):.4f} TrainAcc: {train_acc:.2f}, ValAcc: {val_acc:.2f}\"\n",
    "    )"
   ]
  },
  {
   "cell_type": "markdown",
   "metadata": {},
   "source": [
    "**Process feats into dataset**"
   ]
  },
  {
   "cell_type": "code",
   "execution_count": 9,
   "metadata": {},
   "outputs": [],
   "source": [
    "df = pd.DataFrame(\n",
    "    {\n",
    "        \"train_loss\": train_loss_epoch,\n",
    "        \"train_acc\": train_acc_epoch,\n",
    "        \"val_acc\": val_acc_epoch,\n",
    "        \"train_pr\": train_pr_epoch,\n",
    "        \"train_pr_micro\": train_pr_micro_epoch,\n",
    "        \"val_pr\": val_pr_epoch,\n",
    "        \"val_pr_micro\": val_pr_micro_epoch,\n",
    "        \"train_rec\": train_rec_epoch,\n",
    "        \"train_rec_micro\": train_rec_micro_epoch,\n",
    "        \"val_rec\": val_rec_epoch,\n",
    "        \"val_rec_micro\": val_rec_micro_epoch,\n",
    "        \"train_score\": train_score_epoch,\n",
    "        \"train_score_micro\": train_score_micro_epoch,\n",
    "        \"val_score\": val_score_epoch,\n",
    "        \"val_score_micro\": val_score_micro_epoch,\n",
    "    }\n",
    ")"
   ]
  },
  {
   "cell_type": "code",
   "execution_count": 10,
   "metadata": {},
   "outputs": [],
   "source": [
    "df.to_csv(\n",
    "    f\"{save_name}.csv\",\n",
    "    index=False,\n",
    ")"
   ]
  },
  {
   "cell_type": "code",
   "execution_count": 11,
   "metadata": {},
   "outputs": [],
   "source": [
    "results = {\n",
    "    \"train_preds\": train_preds_epoch,\n",
    "    \"val_preds\": val_preds_epoch,\n",
    "    \"train_targets\": train_targets_epoch,\n",
    "    \"val_targets\": val_targets_epoch,\n",
    "    \"train_mask\": train_mask_epoch,\n",
    "    \"val_mask\": val_mask_epoch,\n",
    "}\n",
    "np.savez(f\"{save_name}.npz\", **results)"
   ]
  },
  {
   "cell_type": "code",
   "execution_count": 12,
   "metadata": {},
   "outputs": [
    {
     "data": {
      "image/png": "[encoded data removed]",
      "text/plain": [
       "<Figure size 1440x720 with 5 Axes>"
      ]
     },
     "metadata": {
      "needs_background": "light"
     },
     "output_type": "display_data"
    }
   ],
   "source": [
    "fig, ax = plt.subplots(3, 2, figsize=(20, 10))\n",
    "df.plot(\n",
    "    y=[\"train_acc\", \"val_acc\"],\n",
    "    title=\"Epoch vs. Accuracy\",\n",
    "    ax=ax[0, 0],\n",
    "    legend=True,\n",
    ")\n",
    "df.plot(y=[\"train_pr\", \"val_pr\"], title=\"Epoch vs. Precision\", ax=ax[0, 1])\n",
    "df.plot(y=[\"train_rec\", \"val_rec\"], title=\"Epoch vs. Recall\", ax=ax[1, 0])\n",
    "df.plot(\n",
    "    y=[\"train_score\", \"val_score\"],\n",
    "    title=\"Epoch vs. F1 Score\",\n",
    "    ax=ax[1, 1],\n",
    ")\n",
    "df.plot(y=[\"train_loss\"], title=\"Epoch vs. Loss\", ax=ax[2, 0], color=\"green\")\n",
    "# Remove the empty subplot\n",
    "fig.delaxes(ax[2, 1])\n",
    "plt.tight_layout()\n",
    "plt.savefig(f\"{save_name}.jpg\")\n",
    "plt.show()"
   ]
  }
 ],
 "metadata": {
  "kernelspec": {
   "display_name": "dataset-upgrade",
   "language": "python",
   "name": "python3"
  },
  "language_info": {
   "codemirror_mode": {
    "name": "ipython",
    "version": 3
   },
   "file_extension": ".py",
   "mimetype": "text/x-python",
   "name": "python",
   "nbconvert_exporter": "python",
   "pygments_lexer": "ipython3",
   "version": "3.8.13"
  }
 },
 "nbformat": 4,
 "nbformat_minor": 2
}
