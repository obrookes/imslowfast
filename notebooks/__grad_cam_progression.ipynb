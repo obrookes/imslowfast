{
 "cells": [
  {
   "cell_type": "code",
   "execution_count": 5,
   "metadata": {},
   "outputs": [
    {
     "name": "stdout",
     "output_type": "stream",
     "text": [
      "['acp000dmac.mp4', 'acp000dn1b.mp4', 'acp000cbiv.mp4', 'acp000bb7k.mp4', 'acp0000a5y.mp4', 'acp000dtsf.mp4', 'acp000dtd3.mp4', 'acp000dktw.mp4', 'acp000basy.mp4', 'acp0005a9y.mp4', 'acp000cexk.mp4', 'acp00054lm.mp4', 'acp0005a9y.mp4', 'acp0005a6i.mp4', 'acp000cbhu.mp4', 'acp000drjw.mp4', 'acp000drcq.mp4', 'acp00029n3.mp4', 'acp000be6z.mp4', 'acp0005ex3.mp4', 'acp0000acj.mp4', 'acp000297s.mp4', 'acp000auq2.mp4', 'acp000484b.mp4', 'acp000297s.mp4', 'acp000cwry.mp4', 'acp0003r9k.mp4', 'acp0005acj.mp4', 'acp000558y.mp4', 'acp000caco.mp4', 'acp000auq2.mp4', 'acp000bhwv.mp4', 'acp000cxgy.mp4', 'acp0005eef.mp4', 'acp0005jqz.mp4', 'acp000bqb7.mp4', 'acp0004dyy.mp4', 'acp0005v37.mp4', 'acp000dvwl.mp4', 'acp000b3jd.mp4', 'acp000b3kr.mp4', 'acp0002nrz.mp4', 'acp0005v1z.mp4', 'acp0002j3i.mp4', 'acp000cmfl.mp4', 'acp0007v9u.mp4', 'acp000cmch.mp4', 'acp000564a.mp4', 'acp000564a.mp4', 'acp000b523.mp4', 'acp000dxb7.mp4']\n"
     ]
    }
   ],
   "source": [
    "import os\n",
    "import shutil\n",
    "\n",
    "import pandas as pd\n",
    "\n",
    "df = pd.read_csv(\"../dataset/gradcam/test.csv\", header=None)\n",
    "\n",
    "# take the first column\n",
    "files = df[0].tolist()\n",
    "\n",
    "print(files)\n",
    "\n",
    "trg_dir = \"../dataset/gradcam/videos/\"\n",
    "src_dir = \"../dataset/videos/\"\n",
    "\n",
    "overwrite = False\n",
    "\n",
    "if overwrite:\n",
    "    # check if the folder exists\n",
    "    if not os.path.exists(trg_dir):\n",
    "        os.makedirs(trg_dir)\n",
    "    else:\n",
    "        # remove the files in the folder\n",
    "        for file in os.listdir(trg_dir):\n",
    "            file_path = os.path.join(trg_dir, file)\n",
    "            try:\n",
    "                if os.path.isfile(file_path):\n",
    "                    os.unlink(file_path)\n",
    "            except Exception as e:\n",
    "                print(e)\n",
    "\n",
    "    # copy the files to the gradcam folder\n",
    "\n",
    "\n",
    "    for file in files:\n",
    "        shutil.copy(os.path.join(src_dir, file), trg_dir)\n",
    "        print(f\"copied {file} to {trg_dir}\")"
   ]
  },
  {
   "cell_type": "code",
   "execution_count": 6,
   "metadata": {},
   "outputs": [],
   "source": [
    "df = pd.read_csv(\"../dataset/gradcam/samples_df.csv\")"
   ]
  },
  {
   "cell_type": "code",
   "execution_count": 7,
   "metadata": {},
   "outputs": [
    {
     "name": "stdout",
     "output_type": "stream",
     "text": [
      "['acp00029n3.mp4', 'acp000dmac.mp4', 'acp0005a6i.mp4', 'acp0005jqz.mp4', 'acp000bb7k.mp4', 'acp000dvwl.mp4', 'acp000caco.mp4', 'acp000297s.mp4', 'acp000cmch.mp4']\n"
     ]
    },
    {
     "data": {
      "text/html": [
       "<div>\n",
       "<style scoped>\n",
       "    .dataframe tbody tr th:only-of-type {\n",
       "        vertical-align: middle;\n",
       "    }\n",
       "\n",
       "    .dataframe tbody tr th {\n",
       "        vertical-align: top;\n",
       "    }\n",
       "\n",
       "    .dataframe thead th {\n",
       "        text-align: right;\n",
       "    }\n",
       "</style>\n",
       "<table border=\"1\" class=\"dataframe\">\n",
       "  <thead>\n",
       "    <tr style=\"text-align: right;\">\n",
       "      <th></th>\n",
       "      <th>cam_seg</th>\n",
       "      <th>beh_seg</th>\n",
       "      <th>behavior</th>\n",
       "      <th>name</th>\n",
       "      <th>label</th>\n",
       "    </tr>\n",
       "  </thead>\n",
       "  <tbody>\n",
       "    <tr>\n",
       "      <th>0</th>\n",
       "      <td>h</td>\n",
       "      <td>head</td>\n",
       "      <td>resting</td>\n",
       "      <td>acp000dmac.mp4</td>\n",
       "      <td>[0, 0, 0, 0, 0, 0, 0, 0, 0, 0, 1, 0, 0, 0]</td>\n",
       "    </tr>\n",
       "    <tr>\n",
       "      <th>3</th>\n",
       "      <td>h</td>\n",
       "      <td>tail</td>\n",
       "      <td>bipedal</td>\n",
       "      <td>acp000bb7k.mp4</td>\n",
       "      <td>[0, 1, 0, 1, 0, 0, 0, 1, 0, 0, 0, 0, 0, 0]</td>\n",
       "    </tr>\n",
       "    <tr>\n",
       "      <th>13</th>\n",
       "      <td>h</td>\n",
       "      <td>few_shot</td>\n",
       "      <td>display</td>\n",
       "      <td>acp0005a6i.mp4</td>\n",
       "      <td>[1, 0, 0, 0, 1, 0, 0, 0, 1, 0, 0, 0, 0, 1]</td>\n",
       "    </tr>\n",
       "    <tr>\n",
       "      <th>17</th>\n",
       "      <td>t</td>\n",
       "      <td>head</td>\n",
       "      <td>resting</td>\n",
       "      <td>acp00029n3.mp4</td>\n",
       "      <td>[0, 0, 0, 0, 0, 1, 0, 0, 0, 0, 1, 1, 0, 0]</td>\n",
       "    </tr>\n",
       "    <tr>\n",
       "      <th>21</th>\n",
       "      <td>t</td>\n",
       "      <td>tail</td>\n",
       "      <td>camera_reaction</td>\n",
       "      <td>acp000297s.mp4</td>\n",
       "      <td>[0, 0, 1, 0, 0, 0, 1, 0, 0, 0, 0, 0, 1, 0]</td>\n",
       "    </tr>\n",
       "    <tr>\n",
       "      <th>24</th>\n",
       "      <td>t</td>\n",
       "      <td>tail</td>\n",
       "      <td>grooming</td>\n",
       "      <td>acp000297s.mp4</td>\n",
       "      <td>[0, 0, 1, 0, 0, 0, 1, 0, 0, 0, 0, 0, 1, 0]</td>\n",
       "    </tr>\n",
       "    <tr>\n",
       "      <th>29</th>\n",
       "      <td>t</td>\n",
       "      <td>few_shot</td>\n",
       "      <td>aggression</td>\n",
       "      <td>acp000caco.mp4</td>\n",
       "      <td>[1, 0, 0, 0, 1, 0, 0, 0, 0, 0, 0, 0, 1, 1]</td>\n",
       "    </tr>\n",
       "    <tr>\n",
       "      <th>34</th>\n",
       "      <td>f</td>\n",
       "      <td>head</td>\n",
       "      <td>resting</td>\n",
       "      <td>acp0005jqz.mp4</td>\n",
       "      <td>[0, 0, 0, 0, 0, 0, 0, 0, 0, 0, 1, 0, 1, 0]</td>\n",
       "    </tr>\n",
       "    <tr>\n",
       "      <th>38</th>\n",
       "      <td>f</td>\n",
       "      <td>tail</td>\n",
       "      <td>camera_reaction</td>\n",
       "      <td>acp000dvwl.mp4</td>\n",
       "      <td>[0, 0, 1, 0, 0, 0, 0, 0, 0, 0, 0, 0, 1, 0]</td>\n",
       "    </tr>\n",
       "    <tr>\n",
       "      <th>46</th>\n",
       "      <td>f</td>\n",
       "      <td>few_shot</td>\n",
       "      <td>aggression</td>\n",
       "      <td>acp000cmch.mp4</td>\n",
       "      <td>[1, 1, 0, 0, 1, 0, 0, 1, 0, 0, 0, 0, 1, 0]</td>\n",
       "    </tr>\n",
       "  </tbody>\n",
       "</table>\n",
       "</div>"
      ],
      "text/plain": [
       "   cam_seg   beh_seg         behavior            name  \\\n",
       "0        h      head          resting  acp000dmac.mp4   \n",
       "3        h      tail          bipedal  acp000bb7k.mp4   \n",
       "13       h  few_shot          display  acp0005a6i.mp4   \n",
       "17       t      head          resting  acp00029n3.mp4   \n",
       "21       t      tail  camera_reaction  acp000297s.mp4   \n",
       "24       t      tail         grooming  acp000297s.mp4   \n",
       "29       t  few_shot       aggression  acp000caco.mp4   \n",
       "34       f      head          resting  acp0005jqz.mp4   \n",
       "38       f      tail  camera_reaction  acp000dvwl.mp4   \n",
       "46       f  few_shot       aggression  acp000cmch.mp4   \n",
       "\n",
       "                                         label  \n",
       "0   [0, 0, 0, 0, 0, 0, 0, 0, 0, 0, 1, 0, 0, 0]  \n",
       "3   [0, 1, 0, 1, 0, 0, 0, 1, 0, 0, 0, 0, 0, 0]  \n",
       "13  [1, 0, 0, 0, 1, 0, 0, 0, 1, 0, 0, 0, 0, 1]  \n",
       "17  [0, 0, 0, 0, 0, 1, 0, 0, 0, 0, 1, 1, 0, 0]  \n",
       "21  [0, 0, 1, 0, 0, 0, 1, 0, 0, 0, 0, 0, 1, 0]  \n",
       "24  [0, 0, 1, 0, 0, 0, 1, 0, 0, 0, 0, 0, 1, 0]  \n",
       "29  [1, 0, 0, 0, 1, 0, 0, 0, 0, 0, 0, 0, 1, 1]  \n",
       "34  [0, 0, 0, 0, 0, 0, 0, 0, 0, 0, 1, 0, 1, 0]  \n",
       "38  [0, 0, 1, 0, 0, 0, 0, 0, 0, 0, 0, 0, 1, 0]  \n",
       "46  [1, 1, 0, 0, 1, 0, 0, 1, 0, 0, 0, 0, 1, 0]  "
      ]
     },
     "execution_count": 7,
     "metadata": {},
     "output_type": "execute_result"
    }
   ],
   "source": [
    "# find all files in the folder\n",
    "\n",
    "epoch = 200\n",
    "img_path = f\"../dataset/gradcam/results/positives/epoch{epoch}/\"\n",
    "img_files = os.listdir(img_path)\n",
    "# remove the extension\n",
    "img_files = [file.split(\".\")[0] for file in img_files]\n",
    "# add \"mp4\" extension\n",
    "img_files = [file + \".mp4\" for file in img_files]\n",
    "print(img_files)\n",
    "\n",
    "\n",
    "# select only rows which are in the files list\n",
    "new_df = df[df[\"name\"].isin(img_files)]\n",
    "\n",
    "new_df.head(15)"
   ]
  },
  {
   "cell_type": "markdown",
   "metadata": {},
   "source": [
    "## I. Positives"
   ]
  },
  {
   "cell_type": "markdown",
   "metadata": {},
   "source": [
    "### 1 Epoch"
   ]
  },
  {
   "cell_type": "markdown",
   "metadata": {},
   "source": [
    "| [![h_head](../dataset/gradcam/results/positives/epoch1/acp000dmac.gif)](h_head)  | [![h_tail](../dataset/gradcam/results/positives/epoch1/acp000bb7k.gif)](h_tail) | [![h_few_shot](../dataset/gradcam/results/positives/epoch1/acp0005a6i.gif)](h_few_shot) |\n",
    "|:---:|:---:|:---:|\n",
    "| h_head | h_tail | h_few_shot |"
   ]
  },
  {
   "cell_type": "markdown",
   "metadata": {},
   "source": [
    "| [![t_head](../dataset/gradcam/results/positives/epoch10/acp00029n3.gif)](t_head)  | [![t_tail](../dataset/gradcam/results/positives/epoch10/acp000297s.gif)](t_tail) | [![t_few_shot](../dataset/gradcam/results/positives/epoch10/acp000caco.gif)](t_few_shot) |\n",
    "|:---:|:---:|:---:|\n",
    "| t_head | t_tail | t_few_shot |"
   ]
  },
  {
   "cell_type": "markdown",
   "metadata": {},
   "source": [
    "| [![f_head](../dataset/gradcam/results/positives/epoch10/acp0005jqz.gif)](f_head)  | [![f_tail](../dataset/gradcam/results/positives/epoch10/acp000dvwl.gif)](f_tail) | [![f_few_shot](../dataset/gradcam/results/positives/epoch10/acp000cmch.gif)](f_few_shot) |\n",
    "|:---:|:---:|:---:|\n",
    "| f_head | f_tail | f_few_shot |"
   ]
  },
  {
   "cell_type": "markdown",
   "metadata": {},
   "source": [
    "### 5 Epochs"
   ]
  },
  {
   "cell_type": "markdown",
   "metadata": {},
   "source": [
    "| [![h_head](../dataset/gradcam/results/positives/epoch5/acp000dmac.gif)](h_head)  | [![h_tail](../dataset/gradcam/results/positives/epoch5/acp000bb7k.gif)](h_tail) | [![h_few_shot](../dataset/gradcam/results/positives/epoch5/acp0005a6i.gif)](h_few_shot) |\n",
    "|:---:|:---:|:---:|\n",
    "| h_head | h_tail | h_few_shot |"
   ]
  },
  {
   "cell_type": "markdown",
   "metadata": {},
   "source": [
    "| [![t_head](../dataset/gradcam/results/positives/epoch5/acp00029n3.gif)](t_head)  | [![t_tail](../dataset/gradcam/results/positives/epoch5/acp000297s.gif)](t_tail) | [![t_few_shot](../dataset/gradcam/results/positives/epoch5/acp000caco.gif)](t_few_shot) |\n",
    "|:---:|:---:|:---:|\n",
    "| t_head | t_tail | t_few_shot |"
   ]
  },
  {
   "cell_type": "markdown",
   "metadata": {},
   "source": [
    "| [![f_head](../dataset/gradcam/results/positives/epoch5/acp0005jqz.gif)](f_head)  | [![f_tail](../dataset/gradcam/results/positives/epoch5/acp000dvwl.gif)](f_tail) | [![f_few_shot](../dataset/gradcam/results/positives/epoch5/acp000cmch.gif)](f_few_shot) |\n",
    "|:---:|:---:|:---:|\n",
    "| f_head | f_tail | f_few_shot |"
   ]
  },
  {
   "cell_type": "markdown",
   "metadata": {},
   "source": [
    "### 10 Epochs"
   ]
  },
  {
   "cell_type": "markdown",
   "metadata": {},
   "source": [
    "| [![h_head](../dataset/gradcam/results/positives/epoch10/acp000dmac.gif)](h_head)  | [![h_tail](../dataset/gradcam/results/positives/epoch10/acp000bb7k.gif)](h_tail) | [![h_few_shot](../dataset/gradcam/results/positives/epoch10/acp0005a6i.gif)](h_few_shot) |\n",
    "|:---:|:---:|:---:|\n",
    "| h_head | h_tail | h_few_shot |"
   ]
  },
  {
   "cell_type": "markdown",
   "metadata": {},
   "source": [
    "| [![t_head](../dataset/gradcam/results/positives/epoch10/acp00029n3.gif)](t_head)  | [![t_tail](../dataset/gradcam/results/positives/epoch10/acp000297s.gif)](t_tail) | [![t_few_shot](../dataset/gradcam/results/positives/epoch10/acp000caco.gif)](t_few_shot) |\n",
    "|:---:|:---:|:---:|\n",
    "| t_head | t_tail | t_few_shot |"
   ]
  },
  {
   "cell_type": "markdown",
   "metadata": {},
   "source": [
    "| [![f_head](../dataset/gradcam/results/positives/epoch10/acp0005jqz.gif)](f_head)  | [![f_tail](../dataset/gradcam/results/positives/epoch10/acp000dvwl.gif)](f_tail) | [![f_few_shot](../dataset/gradcam/results/positives/epoch10/acp000cmch.gif)](f_few_shot) |\n",
    "|:---:|:---:|:---:|\n",
    "| f_head | f_tail | f_few_shot |"
   ]
  },
  {
   "cell_type": "markdown",
   "metadata": {},
   "source": [
    "### 40 Epochs"
   ]
  },
  {
   "cell_type": "markdown",
   "metadata": {},
   "source": [
    "| [![h_head](../dataset/gradcam/results/positives/epoch40/acp000dmac.gif)](h_head)  | [![h_tail](../dataset/gradcam/results/positives/epoch40/acp000bb7k.gif)](h_tail) | [![h_few_shot](../dataset/gradcam/results/positives/epoch40/acp0005a6i.gif)](h_few_shot) |\n",
    "|:---:|:---:|:---:|\n",
    "| h_head | h_tail | h_few_shot |"
   ]
  },
  {
   "cell_type": "markdown",
   "metadata": {},
   "source": [
    "| [![t_head](../dataset/gradcam/results/positives/epoch40/acp00029n3.gif)](t_head)  | [![t_tail](../dataset/gradcam/results/positives/epoch40/acp000297s.gif)](t_tail) | [![t_few_shot](../dataset/gradcam/results/positives/epoch40/acp000caco.gif)](t_few_shot) |\n",
    "|:---:|:---:|:---:|\n",
    "| t_head | t_tail | t_few_shot |"
   ]
  },
  {
   "cell_type": "markdown",
   "metadata": {},
   "source": [
    "| [![f_head](../dataset/gradcam/results/positives/epoch40/acp0005jqz.gif)](f_head)  | [![f_tail](../dataset/gradcam/results/positives/epoch40/acp000dvwl.gif)](f_tail) | [![f_few_shot](../dataset/gradcam/results/positives/epoch40/acp000cmch.gif)](f_few_shot) |\n",
    "|:---:|:---:|:---:|\n",
    "| f_head | f_tail | f_few_shot |"
   ]
  },
  {
   "cell_type": "markdown",
   "metadata": {},
   "source": [
    "### 100 epochs"
   ]
  },
  {
   "cell_type": "markdown",
   "metadata": {},
   "source": [
    "| [![h_head](../dataset/gradcam/results/positives/epoch100/acp000dmac.gif)](h_head)  | [![h_tail](../dataset/gradcam/results/positives/epoch100/acp000bb7k.gif)](h_tail) | [![h_few_shot](../dataset/gradcam/results/positives/epoch100/acp0005a6i.gif)](h_few_shot) |\n",
    "|:---:|:---:|:---:|\n",
    "| h_head | h_tail | h_few_shot |"
   ]
  },
  {
   "cell_type": "markdown",
   "metadata": {},
   "source": [
    "| [![t_head](../dataset/gradcam/results/positives/epoch100/acp00029n3.gif)](t_head)  | [![t_tail](../dataset/gradcam/results/positives/epoch100/acp000297s.gif)](t_tail) | [![t_few_shot](../dataset/gradcam/results/positives/epoch100/acp000caco.gif)](t_few_shot) |\n",
    "|:---:|:---:|:---:|\n",
    "| t_head | t_tail | t_few_shot |"
   ]
  },
  {
   "cell_type": "markdown",
   "metadata": {},
   "source": [
    "| [![f_head](../dataset/gradcam/results/positives/epoch100/acp0005jqz.gif)](f_head)  | [![f_tail](../dataset/gradcam/results/positives/epoch100/acp000dvwl.gif)](f_tail) | [![f_few_shot](../dataset/gradcam/results/positives/epoch100/acp000cmch.gif)](f_few_shot) |\n",
    "|:---:|:---:|:---:|\n",
    "| f_head | f_tail | f_few_shot |"
   ]
  },
  {
   "cell_type": "markdown",
   "metadata": {},
   "source": [
    "### 160 Epochs"
   ]
  },
  {
   "cell_type": "markdown",
   "metadata": {},
   "source": [
    "| [![h_head](../dataset/gradcam/results/positives/epoch160/acp000dmac.gif)](h_head)  | [![h_tail](../dataset/gradcam/results/positives/epoch160/acp000bb7k.gif)](h_tail) | [![h_few_shot](../dataset/gradcam/results/positives/epoch160/acp0005a6i.gif)](h_few_shot) |\n",
    "|:---:|:---:|:---:|\n",
    "| h_head | h_tail | h_few_shot |"
   ]
  },
  {
   "cell_type": "markdown",
   "metadata": {},
   "source": [
    "| [![t_head](../dataset/gradcam/results/positives/epoch40/acp00029n3.gif)](t_head)  | [![t_tail](../dataset/gradcam/results/positives/epoch40/acp000297s.gif)](t_tail) | [![t_few_shot](../dataset/gradcam/results/positives/epoch40/acp000caco.gif)](t_few_shot) |\n",
    "|:---:|:---:|:---:|\n",
    "| t_head | t_tail | t_few_shot |"
   ]
  },
  {
   "cell_type": "markdown",
   "metadata": {},
   "source": [
    "| [![f_head](../dataset/gradcam/results/positives/epoch40/acp0005jqz.gif)](f_head)  | [![f_tail](../dataset/gradcam/results/positives/epoch40/acp000dvwl.gif)](f_tail) | [![f_few_shot](../dataset/gradcam/results/positives/epoch40/acp000cmch.gif)](f_few_shot) |\n",
    "|:---:|:---:|:---:|\n",
    "| f_head | f_tail | f_few_shot |"
   ]
  },
  {
   "cell_type": "markdown",
   "metadata": {},
   "source": [
    "### 200 Epochs"
   ]
  },
  {
   "cell_type": "markdown",
   "metadata": {},
   "source": [
    "| [![h_head](../dataset/gradcam/results/positives/epoch200/acp000dmac.gif)](h_head)  | [![h_tail](../dataset/gradcam/results/positives/epoch200/acp000bb7k.gif)](h_tail) | [![h_few_shot](../dataset/gradcam/results/positives/epoch200/acp0005a6i.gif)](h_few_shot) |\n",
    "|:---:|:---:|:---:|\n",
    "| h_head | h_tail | h_few_shot |"
   ]
  },
  {
   "cell_type": "markdown",
   "metadata": {},
   "source": [
    "| [![t_head](../dataset/gradcam/results/positives/epoch200/acp00029n3.gif)](t_head)  | [![t_tail](../dataset/gradcam/results/positives/epoch200/acp000297s.gif)](t_tail) | [![t_few_shot](../dataset/gradcam/results/positives/epoch200/acp000caco.gif)](t_few_shot) |\n",
    "|:---:|:---:|:---:|\n",
    "| t_head | t_tail | t_few_shot |"
   ]
  },
  {
   "cell_type": "markdown",
   "metadata": {},
   "source": [
    "| [![f_head](../dataset/gradcam/results/positives/epoch200/acp0005jqz.gif)](f_head)  | [![f_tail](../dataset/gradcam/results/positives/epoch200/acp000dvwl.gif)](f_tail) | [![f_few_shot](../dataset/gradcam/results/positives/epoch200/acp000cmch.gif)](f_few_shot) |\n",
    "|:---:|:---:|:---:|\n",
    "| f_head | f_tail | f_few_shot |"
   ]
  },
  {
   "cell_type": "markdown",
   "metadata": {},
   "source": [
    "## II. Negatives"
   ]
  }
 ],
 "metadata": {
  "kernelspec": {
   "display_name": "slowfast",
   "language": "python",
   "name": "python3"
  },
  "language_info": {
   "codemirror_mode": {
    "name": "ipython",
    "version": 3
   },
   "file_extension": ".py",
   "mimetype": "text/x-python",
   "name": "python",
   "nbconvert_exporter": "python",
   "pygments_lexer": "ipython3",
   "version": "3.10.13"
  }
 },
 "nbformat": 4,
 "nbformat_minor": 2
}
