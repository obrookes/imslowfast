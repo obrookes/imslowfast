{
 "cells": [
  {
   "cell_type": "code",
   "execution_count": null,
   "metadata": {},
   "outputs": [],
   "source": [
    "import ast\n",
    "import pickle as pkl\n",
    "\n",
    "from plot_utils import (\n",
    "    plot_camera_locations_distribution,\n",
    ")\n",
    "from data_utils import (\n",
    "    results2df,\n",
    "    return_ct_location_segments,\n",
    ")\n",
    "\n",
    "import matplotlib.pyplot as plt\n",
    "import numpy as np\n",
    "import pandas as pd\n",
    "import torch"
   ]
  },
  {
   "cell_type": "markdown",
   "metadata": {},
   "source": [
    "**Load annotations and results**"
   ]
  },
  {
   "cell_type": "code",
   "execution_count": null,
   "metadata": {},
   "outputs": [],
   "source": [
    "# Relevant paths\n",
    "train_results_file = (\n",
    "    \"../dataset/results/model=slow_r50-w-negatives_e=100_split=train.pkl\"\n",
    ")\n",
    "val_results_file = \"../dataset/results/model=slow_r50-w-negatives_e=100_split=val.pkl\"\n",
    "\n",
    "\n",
    "model_name = \"slow_r50-w-negatives\"\n",
    "folder_path = \"../dataset/results/\"\n",
    "metadata_file = \"../dataset/metadata/metadata.csv\"\n",
    "behavioural_labels_file = \"../dataset/metadata/behaviours.txt\"\n",
    "segements_file = \"../dataset/metadata/segments.txt\""
   ]
  },
  {
   "cell_type": "code",
   "execution_count": null,
   "metadata": {},
   "outputs": [],
   "source": [
    "with open(\n",
    "    train_results_file,\n",
    "    \"rb\",\n",
    ") as f:\n",
    "    train_data = pkl.load(f)\n",
    "\n",
    "with open(val_results_file, \"rb\") as f:\n",
    "    val_data = pkl.load(f)\n",
    "\n",
    "metadata_df = pd.read_csv(metadata_file)\n",
    "\n",
    "with open(behavioural_labels_file, \"rb\") as f:\n",
    "    behaviours = [beh.decode(\"utf-8\").strip() for beh in f.readlines()]\n",
    "\n",
    "with open(segements_file, \"rb\") as f:\n",
    "    segments = [seg.decode(\"utf-8\").strip() for seg in f.readlines()]"
   ]
  },
  {
   "cell_type": "code",
   "execution_count": null,
   "metadata": {},
   "outputs": [],
   "source": [
    "# This will return dfs with preds, feats, labels, and all metadata\n",
    "train_df, val_df = results2df(train_data, val_data, metadata_df)"
   ]
  },
  {
   "cell_type": "code",
   "execution_count": null,
   "metadata": {},
   "outputs": [],
   "source": [
    "# Do this to inspect camera location segments\n",
    "h_df, t_df, f_df = return_ct_location_segments(train_df, head=50, tail=10)\n",
    "\n",
    "# Merge with original dataframe\n",
    "h_df = h_df.merge(train_df, on=\"utm\", how=\"left\")\n",
    "t_df = t_df.merge(train_df, on=\"utm\", how=\"left\")\n",
    "f_df = f_df.merge(train_df, on=\"utm\", how=\"left\")"
   ]
  },
  {
   "cell_type": "code",
   "execution_count": null,
   "metadata": {},
   "outputs": [],
   "source": [
    "# Usage:\n",
    "plot_camera_locations_distribution(train_df, head=50, tail=10, use_proportion=True)"
   ]
  }
 ],
 "metadata": {
  "kernelspec": {
   "display_name": "dataset-upgrade",
   "language": "python",
   "name": "python3"
  },
  "language_info": {
   "codemirror_mode": {
    "name": "ipython",
    "version": 3
   },
   "file_extension": ".py",
   "mimetype": "text/x-python",
   "name": "python",
   "nbconvert_exporter": "python",
   "pygments_lexer": "ipython3",
   "version": "3.8.13"
  }
 },
 "nbformat": 4,
 "nbformat_minor": 2
}
