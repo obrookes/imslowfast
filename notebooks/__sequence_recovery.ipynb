{
 "cells": [
  {
   "cell_type": "code",
   "execution_count": 1,
   "metadata": {
    "metadata": {}
   },
   "outputs": [],
   "source": [
    "import pickle as pkl\n",
    "\n",
    "import numpy as np\n",
    "import pandas as pd\n",
    "import torch.nn.functional as F"
   ]
  },
  {
   "cell_type": "markdown",
   "metadata": {},
   "source": [
    "**Load data**"
   ]
  },
  {
   "cell_type": "code",
   "execution_count": 2,
   "metadata": {
    "metadata": {}
   },
   "outputs": [],
   "source": [
    "with open(\n",
    "    \"/home/dl18206/Desktop/phd/code/personal/facebook/slowfast/model=slow-50-tap/model=slow-50_method=tap4x8_ext=manifold_mixup_triplets_feats.pkl\",\n",
    "    \"rb\",\n",
    ") as f:\n",
    "    data = pkl.load(f)\n",
    "\n",
    "metadata = pd.read_csv(\n",
    "    \"/home/dl18206/Desktop/phd/data/panaf/PanAfFull/notebooks/data/panaf-seq_metadata.csv\"\n",
    ")"
   ]
  },
  {
   "cell_type": "markdown",
   "metadata": {},
   "source": [
    "**Preprocess**"
   ]
  },
  {
   "cell_type": "markdown",
   "metadata": {},
   "source": [
    "**Analyse a single video for subclip classifications**"
   ]
  },
  {
   "cell_type": "code",
   "execution_count": 3,
   "metadata": {
    "metadata": {}
   },
   "outputs": [],
   "source": [
    "behaviours = [\n",
    "    \"aggression\",\n",
    "    \"bipedal\",\n",
    "    \"camera_reaction\",\n",
    "    \"climbing\",\n",
    "    \"display\",\n",
    "    \"feeding\",\n",
    "    \"grooming\",\n",
    "    \"object_carrying\",\n",
    "    \"piloerection\",\n",
    "    \"playing\",\n",
    "    \"resting\",\n",
    "    \"tool_use\",\n",
    "    \"travel\",\n",
    "    \"vocalisation\",\n",
    "]\n",
    "\n",
    "behaviours_dict = {beh: i for i, beh in enumerate(behaviours)}"
   ]
  },
  {
   "cell_type": "code",
   "execution_count": 4,
   "metadata": {
    "metadata": {}
   },
   "outputs": [],
   "source": [
    "# Detach all tensors and move to CPU\n",
    "for k, v in data.items():\n",
    "    if k not in [\"names\"]:\n",
    "        data[k] = v.detach().cpu()"
   ]
  },
  {
   "cell_type": "code",
   "execution_count": 5,
   "metadata": {
    "metadata": {}
   },
   "outputs": [],
   "source": [
    "# Apply softmax across all logits\n",
    "logits = F.sigmoid(data[\"cas\"])\n",
    "\n",
    "logit_df = pd.DataFrame(\n",
    "    logits.tolist(), columns=[\"clip_1\", \"clip_2\", \"clip_3\", \"clip_4\"]\n",
    ")\n",
    "\n",
    "# Get the names of the clips\n",
    "name_df = pd.DataFrame(data[\"names\"], columns=[\"name\"])\n",
    "name_df = name_df.merge(\n",
    "    metadata[[\"subject_id\", \"value\"]], left_on=\"name\", right_on=\"subject_id\"\n",
    ")\n",
    "\n",
    "# Concatenate the two dataframes\n",
    "df = pd.concat([name_df, logit_df], axis=1)"
   ]
  },
  {
   "cell_type": "markdown",
   "metadata": {},
   "source": [
    "**How often can the sequence be recovered (via top-k)**"
   ]
  },
  {
   "cell_type": "code",
   "execution_count": 59,
   "metadata": {},
   "outputs": [],
   "source": [
    "\n",
    "\n",
    "def can_recover_groundtruth(predictions, groundtruth_str, k, threshold=None):\n",
    "    \"\"\"\n",
    "    Determine if the groundtruth sequence can be recovered from the predictions for the top-k predictions,\n",
    "    considering temporal dynamics.\n",
    "\n",
    "    Parameters:\n",
    "    predictions (list of list of float): The multi-label predictions at each time step.\n",
    "    groundtruth (list of int): The groundtruth sequence of labels.\n",
    "    k (int): The value of k for top-k predictions.\n",
    "\n",
    "    Returns:\n",
    "    bool: True if the groundtruth sequence can be recovered, False otherwise.\n",
    "    \"\"\"\n",
    "\n",
    "    groundtruth = []\n",
    "    for behaviour in groundtruth_str.split(\",\"):\n",
    "        if behaviour in behaviours_dict.keys():\n",
    "            groundtruth.append(behaviours_dict[behaviour])\n",
    "\n",
    "    current_gt_index = 0\n",
    "    n = len(groundtruth)\n",
    "\n",
    "    for i in range(len(predictions)):\n",
    "\n",
    "        # Apply thresholding to the predictions\n",
    "        if threshold is not None:\n",
    "            for p in predictions[i]:\n",
    "                if p < threshold:\n",
    "                    p = 0\n",
    "                else:\n",
    "                    continue\n",
    "\n",
    "        # Get the top-k predictions for the current time step\n",
    "        top_k_indices = np.argsort(predictions[i])[-k:]\n",
    "\n",
    "        # Check if the current groundtruth label is in the top-k predictions\n",
    "        if groundtruth[current_gt_index] in top_k_indices:\n",
    "            # If we have matched all but the last groundtruth labels, break the loop\n",
    "            if current_gt_index == n - 1:\n",
    "                break\n",
    "            else:\n",
    "                current_gt_index += 1\n",
    "\n",
    "    # Check the remaining predictions for the final groundtruth label\n",
    "    remaining_predictions = False\n",
    "    final_label = groundtruth[-1]\n",
    "    for j in range(i + 1, len(predictions)):\n",
    "        top_k_indices = np.argsort(predictions[j])[-k:]\n",
    "        if final_label in top_k_indices:\n",
    "            remaining_predictions = True\n",
    "        else:\n",
    "            remaining_predictions = False\n",
    "    if remaining_predictions:\n",
    "        return True\n",
    "\n",
    "    # If we have not matched all groundtruth labels by the end of the predictions, return False\n",
    "    return current_gt_index == n - 1 and final_label in np.argsort(predictions[-1])[-k:]"
   ]
  },
  {
   "cell_type": "code",
   "execution_count": 60,
   "metadata": {},
   "outputs": [
    {
     "data": {
      "text/html": [
       "<div>\n",
       "<style scoped>\n",
       "    .dataframe tbody tr th:only-of-type {\n",
       "        vertical-align: middle;\n",
       "    }\n",
       "\n",
       "    .dataframe tbody tr th {\n",
       "        vertical-align: top;\n",
       "    }\n",
       "\n",
       "    .dataframe thead th {\n",
       "        text-align: right;\n",
       "    }\n",
       "</style>\n",
       "<table border=\"1\" class=\"dataframe\">\n",
       "  <thead>\n",
       "    <tr style=\"text-align: right;\">\n",
       "      <th></th>\n",
       "      <th>name</th>\n",
       "      <th>subject_id</th>\n",
       "      <th>value</th>\n",
       "      <th>clip_1</th>\n",
       "      <th>clip_2</th>\n",
       "      <th>clip_3</th>\n",
       "      <th>clip_4</th>\n",
       "      <th>k_3</th>\n",
       "      <th>k_2</th>\n",
       "      <th>k_4</th>\n",
       "    </tr>\n",
       "  </thead>\n",
       "  <tbody>\n",
       "    <tr>\n",
       "      <th>0</th>\n",
       "      <td>acp0000ecu.mp4</td>\n",
       "      <td>acp0000ecu.mp4</td>\n",
       "      <td>travel,resting,camera_reaction,travel</td>\n",
       "      <td>[0.046186663210392, 0.1852106750011444, 0.3270...</td>\n",
       "      <td>[0.07149301469326019, 0.1631896197795868, 0.29...</td>\n",
       "      <td>[0.0522477813065052, 0.121314637362957, 0.2229...</td>\n",
       "      <td>[0.042595844715833664, 0.11403792351484299, 0....</td>\n",
       "      <td>False</td>\n",
       "      <td>False</td>\n",
       "      <td>True</td>\n",
       "    </tr>\n",
       "    <tr>\n",
       "      <th>1</th>\n",
       "      <td>acp0000eee.mp4</td>\n",
       "      <td>acp0000eee.mp4</td>\n",
       "      <td>resting,camera_reaction</td>\n",
       "      <td>[0.03010391630232334, 0.0981057733297348, 0.14...</td>\n",
       "      <td>[0.03571592643857002, 0.10046136379241943, 0.1...</td>\n",
       "      <td>[0.03545587509870529, 0.11247675120830536, 0.2...</td>\n",
       "      <td>[0.03578083589673042, 0.08054041862487793, 0.1...</td>\n",
       "      <td>False</td>\n",
       "      <td>False</td>\n",
       "      <td>False</td>\n",
       "    </tr>\n",
       "    <tr>\n",
       "      <th>2</th>\n",
       "      <td>acp0000e8r.mp4</td>\n",
       "      <td>acp0000e8r.mp4</td>\n",
       "      <td>travel</td>\n",
       "      <td>[0.06345184892416, 0.09627769887447357, 0.2039...</td>\n",
       "      <td>[0.016723252832889557, 0.023176632821559906, 0...</td>\n",
       "      <td>[0.0247979536652565, 0.02761819399893284, 0.08...</td>\n",
       "      <td>[0.01939476653933525, 0.024411600083112717, 0....</td>\n",
       "      <td>True</td>\n",
       "      <td>True</td>\n",
       "      <td>True</td>\n",
       "    </tr>\n",
       "    <tr>\n",
       "      <th>3</th>\n",
       "      <td>acp00007eo.mp4</td>\n",
       "      <td>acp00007eo.mp4</td>\n",
       "      <td>camera_reaction,travel</td>\n",
       "      <td>[0.0386824868619442, 0.16975395381450653, 0.47...</td>\n",
       "      <td>[0.06159599497914314, 0.13529202342033386, 0.4...</td>\n",
       "      <td>[0.0425296388566494, 0.07538443058729172, 0.19...</td>\n",
       "      <td>[0.03838212043046951, 0.07555654644966125, 0.1...</td>\n",
       "      <td>True</td>\n",
       "      <td>True</td>\n",
       "      <td>True</td>\n",
       "    </tr>\n",
       "    <tr>\n",
       "      <th>4</th>\n",
       "      <td>acp000086v.mp4</td>\n",
       "      <td>acp000086v.mp4</td>\n",
       "      <td>travel,bipedal,tool_use</td>\n",
       "      <td>[0.04103821888566017, 0.15715011954307556, 0.1...</td>\n",
       "      <td>[0.03897548094391823, 0.13457150757312775, 0.1...</td>\n",
       "      <td>[0.04791214317083359, 0.14926362037658691, 0.1...</td>\n",
       "      <td>[0.054878104478120804, 0.21589484810829163, 0....</td>\n",
       "      <td>False</td>\n",
       "      <td>False</td>\n",
       "      <td>False</td>\n",
       "    </tr>\n",
       "    <tr>\n",
       "      <th>...</th>\n",
       "      <td>...</td>\n",
       "      <td>...</td>\n",
       "      <td>...</td>\n",
       "      <td>...</td>\n",
       "      <td>...</td>\n",
       "      <td>...</td>\n",
       "      <td>...</td>\n",
       "      <td>...</td>\n",
       "      <td>...</td>\n",
       "      <td>...</td>\n",
       "    </tr>\n",
       "    <tr>\n",
       "      <th>579</th>\n",
       "      <td>acp0003r9n.mp4</td>\n",
       "      <td>acp0003r9n.mp4</td>\n",
       "      <td>camera_reaction,tool_use,feeding</td>\n",
       "      <td>[0.04723763093352318, 0.08445605635643005, 0.1...</td>\n",
       "      <td>[0.027902331203222275, 0.05835343524813652, 0....</td>\n",
       "      <td>[0.00770807359367609, 0.025029562413692474, 0....</td>\n",
       "      <td>[0.020381931215524673, 0.052489057183265686, 0...</td>\n",
       "      <td>False</td>\n",
       "      <td>False</td>\n",
       "      <td>False</td>\n",
       "    </tr>\n",
       "    <tr>\n",
       "      <th>580</th>\n",
       "      <td>acp0003rks.mp4</td>\n",
       "      <td>acp0003rks.mp4</td>\n",
       "      <td>tool_use,resting</td>\n",
       "      <td>[0.007024955004453659, 0.03658457472920418, 0....</td>\n",
       "      <td>[0.004270737990736961, 0.023907851427793503, 0...</td>\n",
       "      <td>[0.009194358251988888, 0.03865706920623779, 0....</td>\n",
       "      <td>[0.02427278831601143, 0.06765443831682205, 0.2...</td>\n",
       "      <td>True</td>\n",
       "      <td>True</td>\n",
       "      <td>True</td>\n",
       "    </tr>\n",
       "    <tr>\n",
       "      <th>581</th>\n",
       "      <td>acp0003v8o.mp4</td>\n",
       "      <td>acp0003v8o.mp4</td>\n",
       "      <td>object_carrying,travel</td>\n",
       "      <td>[0.011366123333573341, 0.03467094153165817, 0....</td>\n",
       "      <td>[0.012300258502364159, 0.03668038919568062, 0....</td>\n",
       "      <td>[0.019471727311611176, 0.05068722367286682, 0....</td>\n",
       "      <td>[0.017399780452251434, 0.044091664254665375, 0...</td>\n",
       "      <td>False</td>\n",
       "      <td>False</td>\n",
       "      <td>False</td>\n",
       "    </tr>\n",
       "    <tr>\n",
       "      <th>582</th>\n",
       "      <td>acp0003szl.mp4</td>\n",
       "      <td>acp0003szl.mp4</td>\n",
       "      <td>object_carrying,tool_use</td>\n",
       "      <td>[0.003431620541960001, 0.05847429484128952, 0....</td>\n",
       "      <td>[0.002916986821219325, 0.06053123250603676, 0....</td>\n",
       "      <td>[0.003773113014176488, 0.03959934040904045, 0....</td>\n",
       "      <td>[0.003302965546026826, 0.05218345299363136, 0....</td>\n",
       "      <td>True</td>\n",
       "      <td>False</td>\n",
       "      <td>True</td>\n",
       "    </tr>\n",
       "    <tr>\n",
       "      <th>583</th>\n",
       "      <td>acp0003szs.mp4</td>\n",
       "      <td>acp0003szs.mp4</td>\n",
       "      <td>camera_reaction,object_carrying,tool_use,feeding</td>\n",
       "      <td>[0.009363074786961079, 0.03766525909304619, 0....</td>\n",
       "      <td>[0.0006706722779199481, 0.009675414301455021, ...</td>\n",
       "      <td>[0.002012713346630335, 0.017728101462125778, 0...</td>\n",
       "      <td>[0.0008710879483260214, 0.009010233916342258, ...</td>\n",
       "      <td>False</td>\n",
       "      <td>False</td>\n",
       "      <td>False</td>\n",
       "    </tr>\n",
       "  </tbody>\n",
       "</table>\n",
       "<p>584 rows × 10 columns</p>\n",
       "</div>"
      ],
      "text/plain": [
       "               name      subject_id  \\\n",
       "0    acp0000ecu.mp4  acp0000ecu.mp4   \n",
       "1    acp0000eee.mp4  acp0000eee.mp4   \n",
       "2    acp0000e8r.mp4  acp0000e8r.mp4   \n",
       "3    acp00007eo.mp4  acp00007eo.mp4   \n",
       "4    acp000086v.mp4  acp000086v.mp4   \n",
       "..              ...             ...   \n",
       "579  acp0003r9n.mp4  acp0003r9n.mp4   \n",
       "580  acp0003rks.mp4  acp0003rks.mp4   \n",
       "581  acp0003v8o.mp4  acp0003v8o.mp4   \n",
       "582  acp0003szl.mp4  acp0003szl.mp4   \n",
       "583  acp0003szs.mp4  acp0003szs.mp4   \n",
       "\n",
       "                                                value  \\\n",
       "0               travel,resting,camera_reaction,travel   \n",
       "1                             resting,camera_reaction   \n",
       "2                                              travel   \n",
       "3                              camera_reaction,travel   \n",
       "4                             travel,bipedal,tool_use   \n",
       "..                                                ...   \n",
       "579                  camera_reaction,tool_use,feeding   \n",
       "580                                  tool_use,resting   \n",
       "581                            object_carrying,travel   \n",
       "582                          object_carrying,tool_use   \n",
       "583  camera_reaction,object_carrying,tool_use,feeding   \n",
       "\n",
       "                                                clip_1  \\\n",
       "0    [0.046186663210392, 0.1852106750011444, 0.3270...   \n",
       "1    [0.03010391630232334, 0.0981057733297348, 0.14...   \n",
       "2    [0.06345184892416, 0.09627769887447357, 0.2039...   \n",
       "3    [0.0386824868619442, 0.16975395381450653, 0.47...   \n",
       "4    [0.04103821888566017, 0.15715011954307556, 0.1...   \n",
       "..                                                 ...   \n",
       "579  [0.04723763093352318, 0.08445605635643005, 0.1...   \n",
       "580  [0.007024955004453659, 0.03658457472920418, 0....   \n",
       "581  [0.011366123333573341, 0.03467094153165817, 0....   \n",
       "582  [0.003431620541960001, 0.05847429484128952, 0....   \n",
       "583  [0.009363074786961079, 0.03766525909304619, 0....   \n",
       "\n",
       "                                                clip_2  \\\n",
       "0    [0.07149301469326019, 0.1631896197795868, 0.29...   \n",
       "1    [0.03571592643857002, 0.10046136379241943, 0.1...   \n",
       "2    [0.016723252832889557, 0.023176632821559906, 0...   \n",
       "3    [0.06159599497914314, 0.13529202342033386, 0.4...   \n",
       "4    [0.03897548094391823, 0.13457150757312775, 0.1...   \n",
       "..                                                 ...   \n",
       "579  [0.027902331203222275, 0.05835343524813652, 0....   \n",
       "580  [0.004270737990736961, 0.023907851427793503, 0...   \n",
       "581  [0.012300258502364159, 0.03668038919568062, 0....   \n",
       "582  [0.002916986821219325, 0.06053123250603676, 0....   \n",
       "583  [0.0006706722779199481, 0.009675414301455021, ...   \n",
       "\n",
       "                                                clip_3  \\\n",
       "0    [0.0522477813065052, 0.121314637362957, 0.2229...   \n",
       "1    [0.03545587509870529, 0.11247675120830536, 0.2...   \n",
       "2    [0.0247979536652565, 0.02761819399893284, 0.08...   \n",
       "3    [0.0425296388566494, 0.07538443058729172, 0.19...   \n",
       "4    [0.04791214317083359, 0.14926362037658691, 0.1...   \n",
       "..                                                 ...   \n",
       "579  [0.00770807359367609, 0.025029562413692474, 0....   \n",
       "580  [0.009194358251988888, 0.03865706920623779, 0....   \n",
       "581  [0.019471727311611176, 0.05068722367286682, 0....   \n",
       "582  [0.003773113014176488, 0.03959934040904045, 0....   \n",
       "583  [0.002012713346630335, 0.017728101462125778, 0...   \n",
       "\n",
       "                                                clip_4    k_3    k_2    k_4  \n",
       "0    [0.042595844715833664, 0.11403792351484299, 0....  False  False   True  \n",
       "1    [0.03578083589673042, 0.08054041862487793, 0.1...  False  False  False  \n",
       "2    [0.01939476653933525, 0.024411600083112717, 0....   True   True   True  \n",
       "3    [0.03838212043046951, 0.07555654644966125, 0.1...   True   True   True  \n",
       "4    [0.054878104478120804, 0.21589484810829163, 0....  False  False  False  \n",
       "..                                                 ...    ...    ...    ...  \n",
       "579  [0.020381931215524673, 0.052489057183265686, 0...  False  False  False  \n",
       "580  [0.02427278831601143, 0.06765443831682205, 0.2...   True   True   True  \n",
       "581  [0.017399780452251434, 0.044091664254665375, 0...  False  False  False  \n",
       "582  [0.003302965546026826, 0.05218345299363136, 0....   True  False   True  \n",
       "583  [0.0008710879483260214, 0.009010233916342258, ...  False  False  False  \n",
       "\n",
       "[584 rows x 10 columns]"
      ]
     },
     "execution_count": 60,
     "metadata": {},
     "output_type": "execute_result"
    }
   ],
   "source": [
    "df"
   ]
  },
  {
   "cell_type": "code",
   "execution_count": 50,
   "metadata": {},
   "outputs": [],
   "source": [
    "# Top-2\n",
    "df[\"k_2\"] = df.apply(\n",
    "    lambda x: can_recover_groundtruth(\n",
    "        x[[\"clip_1\", \"clip_2\", \"clip_3\", \"clip_4\"]], x[\"value\"], k=2, threshold=0.1\n",
    "    ),\n",
    "    axis=1,\n",
    ")\n",
    "\n",
    "# Top-3\n",
    "df[\"k_3\"] = df.apply(\n",
    "    lambda x: can_recover_groundtruth(\n",
    "        x[[\"clip_1\", \"clip_2\", \"clip_3\", \"clip_4\"]], x[\"value\"], k=3, threshold=0.1\n",
    "    ),\n",
    "    axis=1,\n",
    ")\n",
    "\n",
    "# Top-3\n",
    "df[\"k_4\"] = df.apply(\n",
    "    lambda x: can_recover_groundtruth(\n",
    "        x[[\"clip_1\", \"clip_2\", \"clip_3\", \"clip_4\"]], x[\"value\"], k=4, threshold=0.1\n",
    "    ),\n",
    "    axis=1,\n",
    ")"
   ]
  },
  {
   "cell_type": "code",
   "execution_count": 58,
   "metadata": {},
   "outputs": [
    {
     "name": "stdout",
     "output_type": "stream",
     "text": [
      "True     0.55137\n",
      "False    0.44863\n",
      "Name: k_2, dtype: float64\n",
      "True     0.695205\n",
      "False    0.304795\n",
      "Name: k_3, dtype: float64\n",
      "True     0.785959\n",
      "False    0.214041\n",
      "Name: k_4, dtype: float64\n"
     ]
    }
   ],
   "source": [
    "print(df.k_2.value_counts(normalize=True))\n",
    "print(df.k_3.value_counts(normalize=True))\n",
    "print(df.k_4.value_counts(normalize=True))"
   ]
  },
  {
   "cell_type": "code",
   "execution_count": 51,
   "metadata": {},
   "outputs": [],
   "source": [
    "def get_dist(values):\n",
    "    all_values = []\n",
    "    split_values = [x.split(\",\") for x in values]\n",
    "    for i in split_values:\n",
    "        for j in i:\n",
    "            all_values.append(j)\n",
    "    pd.DataFrame(all_values, columns=[\"behaviour\"]).value_counts().plot(kind=\"bar\")"
   ]
  },
  {
   "cell_type": "code",
   "execution_count": 48,
   "metadata": {},
   "outputs": [
    {
     "data": {
      "image/png": "[encoded data removed]",
      "text/plain": [
       "<Figure size 432x288 with 1 Axes>"
      ]
     },
     "metadata": {
      "needs_background": "light"
     },
     "output_type": "display_data"
    }
   ],
   "source": [
    "get_dist(df[df.k_3 == True][\"value\"])"
   ]
  },
  {
   "cell_type": "code",
   "execution_count": 49,
   "metadata": {},
   "outputs": [
    {
     "data": {
      "image/png": "[encoded data removed]",
      "text/plain": [
       "<Figure size 432x288 with 1 Axes>"
      ]
     },
     "metadata": {
      "needs_background": "light"
     },
     "output_type": "display_data"
    }
   ],
   "source": [
    "get_dist(df[df.k_3 == False][\"value\"])"
   ]
  }
 ],
 "metadata": {
  "kernelspec": {
   "display_name": "dataset-upgrade",
   "language": "python",
   "name": "python3"
  },
  "language_info": {
   "codemirror_mode": {
    "name": "ipython",
    "version": 3
   },
   "file_extension": ".py",
   "mimetype": "text/x-python",
   "name": "python",
   "nbconvert_exporter": "python",
   "pygments_lexer": "ipython3",
   "version": "3.8.13"
  }
 },
 "nbformat": 4,
 "nbformat_minor": 2
}
