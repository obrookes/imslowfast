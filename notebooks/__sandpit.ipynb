{
 "cells": [
  {
   "cell_type": "code",
   "execution_count": null,
   "metadata": {},
   "outputs": [],
   "source": [
    "import ast\n",
    "import math\n",
    "import torch\n",
    "import torchvision\n",
    "import pickle as pkl\n",
    "import pandas as pd\n",
    "import numpy as np\n",
    "import seaborn as sns\n",
    "from einops import rearrange\n",
    "import matplotlib.pyplot as plt\n",
    "from sklearn.manifold import TSNE\n",
    "from sklearn.cluster import KMeans\n",
    "from adjustText import adjust_text\n",
    "from torchvision.utils import make_grid\n",
    "import matplotlib.pyplot as plt\n",
    "from matplotlib.colors import LinearSegmentedColormap\n",
    "from matplotlib.gridspec import GridSpec\n",
    "from torchmetrics.functional.classification import average_precision"
   ]
  },
  {
   "cell_type": "code",
   "execution_count": null,
   "metadata": {},
   "outputs": [],
   "source": [
    "with open(\n",
    "    \"../model=slow-50-tap/model=slow-50_method=tap-16x8-w-negatives_ext=sw-0.5_return-feats=val_feats.pkl\",\n",
    "    \"rb\",\n",
    ") as f:\n",
    "    data = pkl.load(f)\n",
    "\n",
    "metadata = pd.read_csv(\n",
    "    \"/home/dl18206/Desktop/phd/data/panaf/PanAfFull/notebooks/data/panaf-seq_metadata.csv\"\n",
    ")\n",
    "\n",
    "with open(\n",
    "    \"../model=slow-50-tap/model=slow_r50-w-negatives_type=return_val_feats_feats.pkl\",\n",
    "    \"rb\",\n",
    ") as f:\n",
    "    g_data = pkl.load(f)\n",
    "\n",
    "# Define class names\n",
    "with open(\"../data/behaviours.txt\", \"rb\") as f:\n",
    "    behaviours = [beh.decode(\"utf-8\").strip() for beh in f.readlines()]"
   ]
  },
  {
   "cell_type": "code",
   "execution_count": null,
   "metadata": {},
   "outputs": [],
   "source": [
    "data.keys()"
   ]
  },
  {
   "cell_type": "code",
   "execution_count": null,
   "metadata": {},
   "outputs": [],
   "source": [
    "cnts = []\n",
    "for l in data[\"labels\"]:\n",
    "    cnts.append(sum(l).item())\n",
    "data[\"cnts\"] = cnts"
   ]
  },
  {
   "cell_type": "code",
   "execution_count": null,
   "metadata": {},
   "outputs": [],
   "source": [
    "subclips = []\n",
    "for name, feat, cls_act_seq, global_feat, global_pred in zip(\n",
    "    data[\"names\"], data[\"feats\"], data[\"cas\"], g_data[\"feats\"], g_data[\"preds\"]\n",
    "):\n",
    "    recon_mean = []\n",
    "    for i, (f, c) in enumerate(zip(feat, cls_act_seq)):\n",
    "        subclips.append(\n",
    "            {\n",
    "                \"name\": name,\n",
    "                \"feat\": f.detach().cpu().numpy(),\n",
    "                \"cas\": c.detach().cpu().numpy(),\n",
    "                \"timestep\": i,\n",
    "                \"point_type\": \"local\",\n",
    "            }\n",
    "        )\n",
    "        if i == 0:\n",
    "            recon_mean.append(f.detach().cpu().numpy())\n",
    "        else:\n",
    "            recon_mean.append(f.detach().cpu().numpy())\n",
    "\n",
    "    subclips.append(\n",
    "        {\n",
    "            \"name\": name,\n",
    "            \"feat\": global_feat.detach().cpu().numpy(),\n",
    "            \"cas\": global_pred.detach().cpu().numpy(),\n",
    "            \"timestep\": i + 1,\n",
    "            \"point_type\": \"global\",\n",
    "        }\n",
    "    )\n",
    "    subclips.append(\n",
    "        {\n",
    "            \"name\": name,\n",
    "            \"feat\": np.mean(recon_mean, axis=0),\n",
    "            \"cas\": global_pred.detach().cpu().numpy(),\n",
    "            \"timestep\": i + 2,\n",
    "            \"point_type\": \"reconstructed\",\n",
    "        }\n",
    "    )\n",
    "df = pd.DataFrame(subclips, columns=[\"name\", \"feat\", \"cas\", \"timestep\", \"point_type\"])\n",
    "df = df.merge(metadata, how=\"left\", left_on=\"name\", right_on=\"subject_id\")"
   ]
  },
  {
   "cell_type": "markdown",
   "metadata": {},
   "source": [
    "**Original results**"
   ]
  },
  {
   "cell_type": "code",
   "execution_count": 94,
   "metadata": {},
   "outputs": [
    {
     "name": "stdout",
     "output_type": "stream",
     "text": [
      "mAP: 0.5010252594947815\n",
      "tensor([0.4096, 0.5366, 0.3756, 0.7521, 0.5303, 0.8265, 0.2021, 0.3453, 0.3701,\n",
      "        0.0093, 0.7053, 0.9089, 0.8660, 0.1766])\n"
     ]
    }
   ],
   "source": [
    "per_class_ap = average_precision(\n",
    "    data[\"preds\"], data[\"labels\"], num_labels=14, task=\"multilabel\", average=None\n",
    ")\n",
    "map = average_precision(\n",
    "    data[\"preds\"], data[\"labels\"], num_labels=14, task=\"multilabel\", average=\"macro\"\n",
    ")\n",
    "print(f\"mAP: {map}\\n{per_class_ap}\")"
   ]
  },
  {
   "cell_type": "markdown",
   "metadata": {},
   "source": [
    "**Find timstep with highest avg activations**"
   ]
  },
  {
   "cell_type": "code",
   "execution_count": null,
   "metadata": {},
   "outputs": [],
   "source": [
    "data[\"cas\"] = data[\"cas\"].detach().cpu()"
   ]
  },
  {
   "cell_type": "code",
   "execution_count": null,
   "metadata": {},
   "outputs": [],
   "source": [
    "max_avg_acts = []\n",
    "for sample in data[\"cas\"]:\n",
    "    sample = torch.sigmoid(sample)\n",
    "    avg_act = torch.mean(sample, axis=1)\n",
    "    max_idx = torch.argmax(avg_act)\n",
    "    max_avg_acts.append(sample[max_idx])\n",
    "max_avg_preds = torch.stack(max_avg_acts)"
   ]
  },
  {
   "cell_type": "code",
   "execution_count": null,
   "metadata": {},
   "outputs": [],
   "source": [
    "per_class_ap = average_precision(\n",
    "    max_avg_preds, data[\"labels\"], num_labels=14, task=\"multilabel\", average=None\n",
    ")\n",
    "map = average_precision(\n",
    "    max_avg_preds, data[\"labels\"], num_labels=14, task=\"multilabel\", average=\"macro\"\n",
    ")\n",
    "print(f\"mAP: {map}\\n{per_class_ap}\")"
   ]
  },
  {
   "cell_type": "markdown",
   "metadata": {},
   "source": [
    "**Max across timesteps**"
   ]
  },
  {
   "cell_type": "code",
   "execution_count": null,
   "metadata": {},
   "outputs": [],
   "source": [
    "def max_activation_per_class(logits):\n",
    "    # logits shape: [T, NUM_CLS]\n",
    "    max_activations = torch.max(logits, dim=0).values  # Shape: [NUM_CLS]\n",
    "    return max_activations  # Shape: [1, NUM_CLS]"
   ]
  },
  {
   "cell_type": "code",
   "execution_count": null,
   "metadata": {},
   "outputs": [],
   "source": [
    "max_acts = []\n",
    "for sample in data[\"cas\"]:\n",
    "    sample = torch.sigmoid(sample)\n",
    "    max_acts.append(max_activation_per_class(sample))\n",
    "max_preds = torch.stack(max_acts)"
   ]
  },
  {
   "cell_type": "code",
   "execution_count": null,
   "metadata": {},
   "outputs": [],
   "source": [
    "per_class_ap = average_precision(\n",
    "    max_preds, data[\"labels\"], num_labels=14, task=\"multilabel\", average=None\n",
    ")\n",
    "map = average_precision(\n",
    "    max_preds, data[\"labels\"], num_labels=14, task=\"multilabel\", average=\"macro\"\n",
    ")\n",
    "print(f\"mAP: {map}\\n{per_class_ap}\")"
   ]
  },
  {
   "cell_type": "code",
   "execution_count": 78,
   "metadata": {},
   "outputs": [],
   "source": [
    "df = pd.DataFrame(\n",
    "    {\n",
    "        \"name\": data[\"names\"],\n",
    "        \"cnt\": data[\"cnts\"],\n",
    "        \"preds\": list(data[\"preds\"].detach().cpu()),\n",
    "        \"labels\": list(data[\"labels\"].detach().cpu()),\n",
    "    }\n",
    ")"
   ]
  },
  {
   "cell_type": "code",
   "execution_count": 91,
   "metadata": {},
   "outputs": [],
   "source": [
    "df[\"ap\"] = average_precision(\n",
    "    torch.stack(list(df.preds.values)),\n",
    "    torch.stack(list(df.labels.values)),\n",
    "    num_labels=14,\n",
    "    task=\"multilabel\",\n",
    "    average=\"macro\",\n",
    ")"
   ]
  },
  {
   "cell_type": "code",
   "execution_count": 81,
   "metadata": {},
   "outputs": [
    {
     "name": "stdout",
     "output_type": "stream",
     "text": [
      "mAP for 3.0 labels: 0.5833555459976196\n",
      "mAP for 2.0 labels: 0.5850474834442139\n",
      "mAP for 1.0 labels: 0.5624498128890991\n",
      "mAP for 4.0 labels: 0.6938210725784302\n",
      "mAP for 5.0 labels: 0.8325757384300232\n",
      "mAP for 6.0 labels: 1.0\n",
      "mAP for 7.0 labels: 1.0\n"
     ]
    },
    {
     "name": "stderr",
     "output_type": "stream",
     "text": [
      "/home/dl18206/anaconda3/envs/dataset-upgrade/lib/python3.8/site-packages/torchmetrics/utilities/prints.py:36: UserWarning: Average precision score for one or more classes was `nan`. Ignoring these classes in macro-average\n",
      "  warnings.warn(*args, **kwargs)\n"
     ]
    }
   ],
   "source": [
    "# Calculate the average precision per cnt of labels\n",
    "for c in df.cnt.unique():\n",
    "    map = average_precision(\n",
    "        torch.stack(list(df[df.cnt == c].preds.values)),\n",
    "        torch.stack(list(df[df.cnt == c].labels.values)),\n",
    "        num_labels=14,\n",
    "        task=\"multilabel\",\n",
    "        average=\"macro\",\n",
    "    )\n",
    "    print(f\"mAP for {c} labels: {map}\")"
   ]
  },
  {
   "cell_type": "code",
   "execution_count": 87,
   "metadata": {},
   "outputs": [
    {
     "name": "stdout",
     "output_type": "stream",
     "text": [
      "tensor([1., nan, nan, 1., 1., nan, nan, 1., 1., nan, nan, nan, nan, 1.])\n"
     ]
    }
   ],
   "source": [
    "map = average_precision(\n",
    "    torch.stack(list(df[df.cnt == 6.0].preds.values)),\n",
    "    torch.stack(list(df[df.cnt == 6.0].labels.values)),\n",
    "    num_labels=14,\n",
    "    task=\"multilabel\",\n",
    "    average=None,\n",
    ")\n",
    "print(map)"
   ]
  },
  {
   "cell_type": "code",
   "execution_count": 90,
   "metadata": {},
   "outputs": [
    {
     "data": {
      "text/plain": [
       "tensor([[3.0594e-03, 1.7753e-05, 1.3627e-02, 9.9994e-01, 3.6761e-04, 3.7921e-05,\n",
       "         1.0911e-03, 3.5035e-02, 2.3946e-02, 5.4596e-04, 4.4135e-03, 3.4096e-07,\n",
       "         1.0000e+00, 2.8183e-03]])"
      ]
     },
     "execution_count": 90,
     "metadata": {},
     "output_type": "execute_result"
    }
   ],
   "source": [
    "torch.sigmoid(torch.stack(list(df[df.cnt == 6.0].preds.values)))"
   ]
  },
  {
   "cell_type": "code",
   "execution_count": null,
   "metadata": {},
   "outputs": [],
   "source": [
    "df = pd.DataFrame(\n",
    "    {\n",
    "        \"original\": average_precision(\n",
    "            data[\"preds\"],\n",
    "            data[\"labels\"],\n",
    "            num_labels=14,\n",
    "            task=\"multilabel\",\n",
    "            average=None,\n",
    "        ),\n",
    "        \"max_avg\": average_precision(\n",
    "            max_avg_preds,\n",
    "            data[\"labels\"],\n",
    "            num_labels=14,\n",
    "            task=\"multilabel\",\n",
    "            average=None,\n",
    "        ),\n",
    "        \"max\": average_precision(\n",
    "            max_preds, data[\"labels\"], num_labels=14, task=\"multilabel\", average=None\n",
    "        ),\n",
    "    }\n",
    ")"
   ]
  },
  {
   "cell_type": "code",
   "execution_count": null,
   "metadata": {},
   "outputs": [],
   "source": [
    "df"
   ]
  },
  {
   "cell_type": "code",
   "execution_count": null,
   "metadata": {},
   "outputs": [],
   "source": [
    "df.plot.bar(figsize=(10, 5))\n",
    "# Plot behaviours on x axis\n",
    "plt.xticks(range(14), behaviours, rotation=45, ha=\"right\")\n",
    "plt.ylabel(\"Average Precision\")\n",
    "plt.xlabel(\"Behaviour\")\n",
    "plt.title(\"Average Precision per Behaviour\")\n",
    "plt.show()"
   ]
  },
  {
   "cell_type": "code",
   "execution_count": null,
   "metadata": {},
   "outputs": [],
   "source": [
    "few_shot_classes = [\"aggression\", \"display\", \"piloerection\", \"playing\"]\n",
    "few_shot_indices = [behaviours.index(beh) for beh in few_shot_classes]\n",
    "\n",
    "tail_classes = [\"tool_use\", \"object_carrying\", \"bipedal\", \"grooming\", \"vocalisation\"]\n",
    "tail_indices = [behaviours.index(beh) for beh in tail_classes]\n",
    "\n",
    "middle_classes = [\"feeding\", \"climbing\", \"camera_reaction\"]\n",
    "middle_indices = [behaviours.index(beh) for beh in middle_classes]\n",
    "\n",
    "head_classes = [\"travel\", \"resting\"]\n",
    "head_indices = [behaviours.index(beh) for beh in head_classes]\n",
    "\n",
    "# Calculate average precision for few-shot classes\n",
    "print(\"Few-shot classes\\n\", df.loc[few_shot_indices].mean())\n",
    "\n",
    "# Calculate average precision for tail classes\n",
    "print(\"Tail classes\\n\", df.loc[tail_indices].mean())\n",
    "\n",
    "# Calculate average precision for middle classes\n",
    "print(\"Middle classes\\n\", df.loc[middle_indices].mean())\n",
    "\n",
    "# Calculate average precision for head classes\n",
    "print(\"Head classes\\n\", df.loc[head_indices].mean())"
   ]
  }
 ],
 "metadata": {
  "kernelspec": {
   "display_name": "dataset-upgrade",
   "language": "python",
   "name": "python3"
  },
  "language_info": {
   "codemirror_mode": {
    "name": "ipython",
    "version": 3
   },
   "file_extension": ".py",
   "mimetype": "text/x-python",
   "name": "python",
   "nbconvert_exporter": "python",
   "pygments_lexer": "ipython3",
   "version": "3.8.13"
  }
 },
 "nbformat": 4,
 "nbformat_minor": 2
}
