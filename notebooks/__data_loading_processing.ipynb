{
 "cells": [
  {
   "cell_type": "code",
   "execution_count": 1,
   "metadata": {},
   "outputs": [],
   "source": [
    "import ast\n",
    "import torch\n",
    "import seaborn as sns\n",
    "import numpy as np\n",
    "import pickle as pkl\n",
    "import pandas as pd\n",
    "import matplotlib.pyplot as plt\n",
    "\n",
    "from torchmetrics.functional.classification import (\n",
    "    f1_score,\n",
    "    multilabel_precision,\n",
    "    multilabel_recall,\n",
    "    multilabel_average_precision,\n",
    "    confusion_matrix,\n",
    ")\n",
    "\n",
    "from sklearn.metrics import accuracy_score"
   ]
  },
  {
   "cell_type": "markdown",
   "metadata": {},
   "source": [
    "**Load annotations and results**"
   ]
  },
  {
   "cell_type": "code",
   "execution_count": 2,
   "metadata": {},
   "outputs": [],
   "source": [
    "# Relevant paths\n",
    "train_results_file = \"/home/dl18206/Desktop/phd/code/personal/facebook/slowfast/data/local_for_maksim/results/model=slow_r50-w-negatives_e=100_split=train.pkl\"\n",
    "val_results_file = \"/home/dl18206/Desktop/phd/code/personal/facebook/slowfast/data/local_for_maksim/results/model=slow_r50-w-negatives_e=100_split=val.pkl\"\n",
    "metadata_file = \"/home/dl18206/Desktop/phd/code/personal/facebook/slowfast/data/local_for_maksim/metadata/metadata.csv\"\n",
    "behavioural_labels_file = \"../data/behaviours.txt\"\n",
    "segements_file = \"../data/segements.txt\""
   ]
  },
  {
   "cell_type": "code",
   "execution_count": 3,
   "metadata": {},
   "outputs": [],
   "source": [
    "with open(\n",
    "    train_results_file,\n",
    "    \"rb\",\n",
    ") as f:\n",
    "    train_data = pkl.load(f)\n",
    "\n",
    "with open(val_results_file, \"rb\") as f:\n",
    "    val_data = pkl.load(f)\n",
    "\n",
    "metadata_df = pd.read_csv(metadata_file)\n",
    "\n",
    "with open(behavioural_labels_file, \"rb\") as f:\n",
    "    behaviours = [beh.decode(\"utf-8\").strip() for beh in f.readlines()]\n",
    "\n",
    "with open(segements_file, \"rb\") as f:\n",
    "    segments = [seg.decode(\"utf-8\").strip() for seg in f.readlines()]"
   ]
  },
  {
   "cell_type": "code",
   "execution_count": 29,
   "metadata": {},
   "outputs": [],
   "source": [
    "def results2df(train_data, val_data, metadata_df):\n",
    "\n",
    "    # Process subclips\n",
    "    subclips = []\n",
    "    for i, split in enumerate([train_data, val_data]):\n",
    "        for name, pred, feat, label in zip(\n",
    "            split[\"names\"], split[\"preds\"], split[\"feats\"], split[\"labels\"]\n",
    "        ):\n",
    "            subclips.append(\n",
    "                {\n",
    "                    \"name\": name,\n",
    "                    \"split\": i,\n",
    "                    \"pred\": pred,\n",
    "                    \"feat\": feat,\n",
    "                    \"negative\": True if sum(label) == 0 else False,\n",
    "                }\n",
    "            )\n",
    "\n",
    "    df = pd.DataFrame(subclips, columns=[\"name\", \"split\", \"pred\", \"feat\", \"negative\"])\n",
    "\n",
    "    df[\"split\"] = df.split.map({0: \"train\", 1: \"val\"})\n",
    "    df = df.merge(metadata_df, how=\"left\", left_on=\"name\", right_on=\"subject_id\")\n",
    "\n",
    "    # Apply sigmoid to predictions\n",
    "    df[\"pred\"] = df.pred.apply(lambda x: torch.sigmoid(torch.tensor(x)))\n",
    "\n",
    "    # Convert label from str to int\n",
    "    df.label = df.label.apply(lambda x: np.array(ast.literal_eval(x)))\n",
    "\n",
    "    # Add negative\n",
    "    df[\"negative\"] = df.label.apply(lambda x: sum(x) == 0)\n",
    "\n",
    "    # Add global location count to dataframe\n",
    "    df[\"location_count\"] = df.utm.map(df.utm.value_counts())\n",
    "\n",
    "    # Return train and val dataframes\n",
    "    train_df = df[df.split == \"train\"]\n",
    "    val_df = df[df.split == \"val\"]\n",
    "\n",
    "    return train_df, val_df\n",
    "\n",
    "\n",
    "def print_per_segement_performance(map, segment, show_per_class=False):\n",
    "    res = []\n",
    "    for i, (b, s) in enumerate(zip(map, segments)):\n",
    "        if s == segment:\n",
    "            res.append({behaviours[i]: b})\n",
    "    agg_values = []\n",
    "    for r in res:\n",
    "        for _, value in r.items():\n",
    "            agg_values.append(value)\n",
    "    if show_per_class:\n",
    "        print(f\"{segment}: {np.mean(agg_values):.2f} {res}\")\n",
    "    else:\n",
    "        print(f\"{segment}: {np.mean(agg_values):.2f}\")"
   ]
  },
  {
   "cell_type": "code",
   "execution_count": 30,
   "metadata": {},
   "outputs": [],
   "source": [
    "# This will return dfs with preds, feats, labels, and all metadata\n",
    "train_df, val_df = results2df(train_data, val_data, metadata_df)"
   ]
  },
  {
   "cell_type": "markdown",
   "metadata": {},
   "source": [
    "**Metric calculation**"
   ]
  },
  {
   "cell_type": "code",
   "execution_count": 41,
   "metadata": {},
   "outputs": [
    {
     "name": "stdout",
     "output_type": "stream",
     "text": [
      "Train mAP: 0.99\n",
      "head: 1.00\n",
      "tail: 0.99\n",
      "few_shot: 0.98\n",
      "\n",
      "\n",
      "Val mAP: 0.44\n",
      "head: 0.69\n",
      "tail: 0.46\n",
      "few_shot: 0.27\n"
     ]
    }
   ],
   "source": [
    "# Train performance\n",
    "train_map = multilabel_average_precision(\n",
    "    torch.tensor(np.stack(train_df[\"pred\"])),\n",
    "    torch.tensor(np.stack(train_df[\"label\"])),\n",
    "    num_labels=14,\n",
    "    average=\"none\",\n",
    ")\n",
    "\n",
    "print(\"Train mAP:\", round(train_map.mean().item(), 2))\n",
    "print_per_segement_performance(train_map, \"head\")\n",
    "print_per_segement_performance(train_map, \"tail\")\n",
    "print_per_segement_performance(train_map, \"few_shot\")\n",
    "\n",
    "\n",
    "# Val performance\n",
    "val_map = multilabel_average_precision(\n",
    "    torch.tensor(np.stack(val_df[\"pred\"])),\n",
    "    torch.tensor(np.stack(val_df[\"label\"])),\n",
    "    num_labels=14,\n",
    "    average=\"none\",\n",
    ")\n",
    "print(\"\\n\")\n",
    "print(\"Val mAP:\", round(val_map.mean().item(), 2))\n",
    "print_per_segement_performance(val_map, \"head\")\n",
    "print_per_segement_performance(val_map, \"tail\")\n",
    "print_per_segement_performance(val_map, \"few_shot\")"
   ]
  },
  {
   "cell_type": "code",
   "execution_count": null,
   "metadata": {},
   "outputs": [],
   "source": []
  }
 ],
 "metadata": {
  "kernelspec": {
   "display_name": "dataset-upgrade",
   "language": "python",
   "name": "python3"
  },
  "language_info": {
   "codemirror_mode": {
    "name": "ipython",
    "version": 3
   },
   "file_extension": ".py",
   "mimetype": "text/x-python",
   "name": "python",
   "nbconvert_exporter": "python",
   "pygments_lexer": "ipython3",
   "version": "3.8.13"
  }
 },
 "nbformat": 4,
 "nbformat_minor": 2
}
