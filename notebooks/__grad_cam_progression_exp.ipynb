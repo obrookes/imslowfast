{
 "cells": [
  {
   "cell_type": "code",
   "execution_count": 18,
   "metadata": {},
   "outputs": [
    {
     "name": "stdout",
     "output_type": "stream",
     "text": [
      "acp000bb4n.mp4\n",
      "copied acp000bb4n.mp4 to ../dataset/gradcam/videos_exp/\n",
      "acp000baf9.mp4\n",
      "copied acp000baf9.mp4 to ../dataset/gradcam/videos_exp/\n",
      "acp000baqi.mp4\n",
      "copied acp000baqi.mp4 to ../dataset/gradcam/videos_exp/\n",
      "acp000donj.mp4\n",
      "copied acp000donj.mp4 to ../dataset/gradcam/videos_exp/\n",
      "acp0005a6i.mp4\n",
      "copied acp0005a6i.mp4 to ../dataset/gradcam/videos_exp/\n",
      "acp0005a9y.mp4\n",
      "copied acp0005a9y.mp4 to ../dataset/gradcam/videos_exp/\n",
      "acp0003rks.mp4\n",
      "copied acp0003rks.mp4 to ../dataset/gradcam/videos_exp/\n",
      "acp000cc3p.mp4\n",
      "copied acp000cc3p.mp4 to ../dataset/gradcam/videos_exp/\n",
      "acp0005v37.mp4\n",
      "copied acp0005v37.mp4 to ../dataset/gradcam/videos_exp/\n",
      "acp000086v.mp4\n",
      "copied acp000086v.mp4 to ../dataset/gradcam/videos_exp/\n",
      "acp000auq2.mp4\n",
      "copied acp000auq2.mp4 to ../dataset/gradcam/videos_exp/\n",
      "acp000caco.mp4\n",
      "copied acp000caco.mp4 to ../dataset/gradcam/videos_exp/\n",
      "acp0000em6.mp4\n",
      "copied acp0000em6.mp4 to ../dataset/gradcam/videos_exp/\n",
      "acp000cmfl.mp4\n",
      "copied acp000cmfl.mp4 to ../dataset/gradcam/videos_exp/\n",
      "acp0000acj.mp4\n",
      "copied acp0000acj.mp4 to ../dataset/gradcam/videos_exp/\n",
      "acp0007hb0.mp4\n",
      "copied acp0007hb0.mp4 to ../dataset/gradcam/videos_exp/\n",
      "acp000cmch.mp4\n",
      "copied acp000cmch.mp4 to ../dataset/gradcam/videos_exp/\n",
      "acp000564a.mp4\n",
      "copied acp000564a.mp4 to ../dataset/gradcam/videos_exp/\n"
     ]
    }
   ],
   "source": [
    "import os\n",
    "import shutil\n",
    "\n",
    "import pandas as pd\n",
    "\n",
    "df = pd.read_csv(\"../dataset/gradcam/test_exp.csv\", header=None)\n",
    "\n",
    "#print(df.head())\n",
    "\n",
    "# take the first column\n",
    "\n",
    "files = df[3].tolist()\n",
    "\n",
    "\n",
    "trg_dir = \"../dataset/gradcam/videos_exp/\"\n",
    "src_dir = \"../dataset/videos/\"\n",
    "\n",
    "overwrite = True\n",
    "\n",
    "if overwrite:\n",
    "    # check if the folder exists\n",
    "    if not os.path.exists(trg_dir):\n",
    "        os.makedirs(trg_dir)\n",
    "    else:\n",
    "        # remove the files in the folder\n",
    "        for file in os.listdir(trg_dir):\n",
    "            file_path = os.path.join(trg_dir, file)\n",
    "          \n",
    "            try:\n",
    "                if os.path.isfile(file_path):\n",
    "                    os.unlink(file_path)\n",
    "            except Exception as e:\n",
    "                print(e)\n",
    "\n",
    "    # copy the files to the gradcam folder\n",
    "\n",
    "    for file in files:\n",
    "        print(f\"{file}\")\n",
    "        shutil.copy(os.path.join(src_dir, file), trg_dir)\n",
    "        print(f\"copied {file} to {trg_dir}\")"
   ]
  },
  {
   "cell_type": "code",
   "execution_count": 10,
   "metadata": {},
   "outputs": [],
   "source": [
    "df = pd.read_csv(\"../dataset/gradcam/samples_df_exp.csv\")"
   ]
  },
  {
   "cell_type": "code",
   "execution_count": 11,
   "metadata": {},
   "outputs": [
    {
     "name": "stdout",
     "output_type": "stream",
     "text": [
      "['acp00029n3.mp4', 'acp000dmac.mp4', 'acp0005a6i.mp4', 'acp0005jqz.mp4', 'acp000bb7k.mp4', 'acp000dvwl.mp4', 'acp000caco.mp4', 'acp000297s.mp4', 'acp000cmch.mp4', 'acp000cbiv.mp4', 'acp00054lm.mp4', 'acp000drcq.mp4', 'acp0005ex3.mp4', 'acp000558y.mp4', 'acp0005eef.mp4', 'acp0004dyy.mp4', 'acp0007v9u.mp4', 'acp000dxb7.mp4']\n"
     ]
    },
    {
     "data": {
      "text/html": [
       "<div>\n",
       "<style scoped>\n",
       "    .dataframe tbody tr th:only-of-type {\n",
       "        vertical-align: middle;\n",
       "    }\n",
       "\n",
       "    .dataframe tbody tr th {\n",
       "        vertical-align: top;\n",
       "    }\n",
       "\n",
       "    .dataframe thead th {\n",
       "        text-align: right;\n",
       "    }\n",
       "</style>\n",
       "<table border=\"1\" class=\"dataframe\">\n",
       "  <thead>\n",
       "    <tr style=\"text-align: right;\">\n",
       "      <th></th>\n",
       "      <th>cam_seg</th>\n",
       "      <th>beh_seg</th>\n",
       "      <th>behavior</th>\n",
       "      <th>name</th>\n",
       "      <th>label</th>\n",
       "    </tr>\n",
       "  </thead>\n",
       "  <tbody>\n",
       "  </tbody>\n",
       "</table>\n",
       "</div>"
      ],
      "text/plain": [
       "Empty DataFrame\n",
       "Columns: [cam_seg, beh_seg, behavior, name, label]\n",
       "Index: []"
      ]
     },
     "execution_count": 11,
     "metadata": {},
     "output_type": "execute_result"
    }
   ],
   "source": [
    "# find all files in the folder\n",
    "\n",
    "epoch = 200\n",
    "img_path = f\"../dataset/gradcam/results/positives/epoch{epoch}/\"\n",
    "img_files = os.listdir(img_path)\n",
    "\n",
    "negatives = [\n",
    "    \"acp000cbiv.txt\",\n",
    "    \"acp00054lm.txt\",\n",
    "    \"acp000drcq.txt\",\n",
    "    \"acp0005ex3.txt\",\n",
    "    \"acp000558y.txt\",\n",
    "    \"acp0005eef.txt\",\n",
    "    \"acp0004dyy.txt\",\n",
    "    \"acp0007v9u.txt\",\n",
    "    \"acp000dxb7.txt\",\n",
    "]\n",
    "\n",
    "# add to img_files\n",
    "img_files.extend(negatives)\n",
    "\n",
    "# remove the extension\n",
    "img_files = [file.split(\".\")[0] for file in img_files]\n",
    "# add \"mp4\" extension\n",
    "img_files = [file + \".mp4\" for file in img_files]\n",
    "print(img_files)\n",
    "\n",
    "\n",
    "# select only rows which are in the files list\n",
    "new_df = df[df[\"name\"].isin(img_files)]\n",
    "\n",
    "new_df.head(15)"
   ]
  },
  {
   "cell_type": "code",
   "execution_count": 12,
   "metadata": {},
   "outputs": [
    {
     "data": {
      "text/html": [
       "<div>\n",
       "<style scoped>\n",
       "    .dataframe tbody tr th:only-of-type {\n",
       "        vertical-align: middle;\n",
       "    }\n",
       "\n",
       "    .dataframe tbody tr th {\n",
       "        vertical-align: top;\n",
       "    }\n",
       "\n",
       "    .dataframe thead th {\n",
       "        text-align: right;\n",
       "    }\n",
       "</style>\n",
       "<table border=\"1\" class=\"dataframe\">\n",
       "  <thead>\n",
       "    <tr style=\"text-align: right;\">\n",
       "      <th></th>\n",
       "      <th>cam_seg</th>\n",
       "      <th>beh_seg</th>\n",
       "      <th>behavior</th>\n",
       "      <th>name</th>\n",
       "      <th>label</th>\n",
       "    </tr>\n",
       "  </thead>\n",
       "  <tbody>\n",
       "  </tbody>\n",
       "</table>\n",
       "</div>"
      ],
      "text/plain": [
       "Empty DataFrame\n",
       "Columns: [cam_seg, beh_seg, behavior, name, label]\n",
       "Index: []"
      ]
     },
     "execution_count": 12,
     "metadata": {},
     "output_type": "execute_result"
    }
   ],
   "source": [
    "new_df[new_df[\"behavior\"] == \"none\"]"
   ]
  },
  {
   "cell_type": "markdown",
   "metadata": {},
   "source": [
    "### 100 epochs"
   ]
  },
  {
   "cell_type": "markdown",
   "metadata": {},
   "source": [
    "| [![h_head](../dataset/gradcam/results/epoch100/acp000dmac.gif)](h_head)  | [![h_neg](../dataset/gradcam/results/epoch100/acp000cbiv.gif)](h_head_neg) | [![h_tail](../dataset/gradcam/results/epoch100/acp000bb7k.gif)](h_tail) |[![h_neg](../dataset/gradcam/results/epoch100/acp00054lm.gif)](h_neg) | [![h_few_shot](../dataset/gradcam/results/epoch100/acp0005a6i.gif)](h_few_shot) | [![t_neg](../dataset/gradcam/results/epoch100/acp000drcq.gif)](t_neg) |\n",
    "|:---:|:---:|:---:|:---:|:---:|:---:|\n",
    "| h_head | h neg|  h_tail | h neg | h_few_shot | h neg |\n",
    "\n",
    "| [![t_head](../dataset/gradcam/results/epoch100/acp00029n3.gif)](t_head)  | [![t_neg](../dataset/gradcam/results/epoch100/acp0005ex3.gif)](t_head_neg) | [![t_tail](../dataset/gradcam/results/epoch100/acp000297s.gif)](t_tail) | [![t_neg](../dataset/gradcam/results/epoch100/acp000558y.gif)](t_tail_neg) | [![t_few_shot](../dataset/gradcam/results/epoch100/acp000caco.gif)](t_few_shot) | [![t_few_shot](../dataset/gradcam/results/epoch100/acp0005eef.gif)](t_tail_neg)  |\n",
    "|:---:|:---:|:---:|:---:|:---:|:---:|\n",
    "| t_head | t neg| t_tail | t_ neg | t_few_shot | t neg |\n",
    "\n",
    "| [![f_head](../dataset/gradcam/results/epoch100/acp0005jqz.gif)](f_head) | [![f_head](../dataset/gradcam/results/epoch100/acp0004dyy.gif)](f_head) | [![f_tail](../dataset/gradcam/results/epoch100/acp000dvwl.gif)](f_tail) | [![f_head](../dataset/gradcam/results/epoch100/acp0007v9u.gif)](f_head)| [![f_few_shot](../dataset/gradcam/results/epoch100/acp000cmch.gif)](f_few_shot) |[![f_head](../dataset/gradcam/results/epoch100/acp000dxb7.gif)](f_head)|\n",
    "|:---:|:---:|:---:|:---:|:---:|:---:|\n",
    "| f_head | f neg|  f_tail | f neg | f_few_shot |f neg |"
   ]
  }
 ],
 "metadata": {
  "kernelspec": {
   "display_name": "slowfast",
   "language": "python",
   "name": "python3"
  },
  "language_info": {
   "codemirror_mode": {
    "name": "ipython",
    "version": 3
   },
   "file_extension": ".py",
   "mimetype": "text/x-python",
   "name": "python",
   "nbconvert_exporter": "python",
   "pygments_lexer": "ipython3",
   "version": "3.10.13"
  }
 },
 "nbformat": 4,
 "nbformat_minor": 2
}
